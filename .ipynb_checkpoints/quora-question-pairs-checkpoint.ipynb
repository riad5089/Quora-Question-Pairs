{
 "cells": [
  {
   "cell_type": "code",
   "execution_count": null,
   "metadata": {
    "_cell_guid": "b1076dfc-b9ad-4769-8c92-a6c4dae69d19",
    "_uuid": "8f2839f25d086af736a60e9eeb907d3b93b6e0e5",
    "execution": {
     "iopub.execute_input": "2023-11-22T11:13:57.662105Z",
     "iopub.status.busy": "2023-11-22T11:13:57.661154Z",
     "iopub.status.idle": "2023-11-22T11:13:57.666616Z",
     "shell.execute_reply": "2023-11-22T11:13:57.665681Z",
     "shell.execute_reply.started": "2023-11-22T11:13:57.662072Z"
    }
   },
   "outputs": [],
   "source": [
    "# # This Python 3 environment comes with many helpful analytics libraries installed\n",
    "# # It is defined by the kaggle/python Docker image: https://github.com/kaggle/docker-python\n",
    "# # For example, here's several helpful packages to load\n",
    "\n",
    "# import numpy as np # linear algebra\n",
    "# import pandas as pd # data processing, CSV file I/O (e.g. pd.read_csv)\n",
    "\n",
    "# # Input data files are available in the read-only \"../input/\" directory\n",
    "# # For example, running this (by clicking run or pressing Shift+Enter) will list all files under the input directory\n",
    "\n",
    "# import os\n",
    "# for dirname, _, filenames in os.walk('/kaggle/input'):\n",
    "#     for filename in filenames:\n",
    "#         print(os.path.join(dirname, filename))\n",
    "\n",
    "# You can write up to 20GB to the current directory (/kaggle/working/) that gets preserved as output when you create a version using \"Save & Run All\" \n",
    "# You can also write temporary files to /kaggle/temp/, but they won't be saved outside of the current session"
   ]
  },
  {
   "cell_type": "code",
   "execution_count": 1,
   "metadata": {
    "execution": {
     "iopub.execute_input": "2023-11-29T12:46:45.608883Z",
     "iopub.status.busy": "2023-11-29T12:46:45.608532Z",
     "iopub.status.idle": "2023-11-29T12:46:46.147399Z",
     "shell.execute_reply": "2023-11-29T12:46:46.146596Z",
     "shell.execute_reply.started": "2023-11-29T12:46:45.608852Z"
    }
   },
   "outputs": [],
   "source": [
    "import pandas as pd\n",
    "import numpy as np\n",
    "import seaborn as sns\n",
    "import matplotlib.pyplot as plt\n",
    "from sklearn.model_selection import train_test_split\n",
    "from tensorflow.keras.preprocessing.text import Tokenizer\n",
    "from tensorflow.keras.preprocessing.sequence import pad_sequences\n",
    "from tensorflow.keras.models import Sequential\n",
    "from tensorflow.keras.layers import Dense, Dropout, Embedding, LSTM\n",
    "from sklearn.ensemble import RandomForestClassifier\n",
    "from sklearn.metrics import accuracy_score\n"
   ]
  },
  {
   "cell_type": "code",
   "execution_count": 2,
   "metadata": {
    "execution": {
     "iopub.execute_input": "2023-11-29T12:47:14.470275Z",
     "iopub.status.busy": "2023-11-29T12:47:14.469603Z",
     "iopub.status.idle": "2023-11-29T12:47:16.433165Z",
     "shell.execute_reply": "2023-11-29T12:47:16.432274Z",
     "shell.execute_reply.started": "2023-11-29T12:47:14.470242Z"
    }
   },
   "outputs": [
    {
     "data": {
      "text/html": [
       "<div>\n",
       "<style scoped>\n",
       "    .dataframe tbody tr th:only-of-type {\n",
       "        vertical-align: middle;\n",
       "    }\n",
       "\n",
       "    .dataframe tbody tr th {\n",
       "        vertical-align: top;\n",
       "    }\n",
       "\n",
       "    .dataframe thead th {\n",
       "        text-align: right;\n",
       "    }\n",
       "</style>\n",
       "<table border=\"1\" class=\"dataframe\">\n",
       "  <thead>\n",
       "    <tr style=\"text-align: right;\">\n",
       "      <th></th>\n",
       "      <th>id</th>\n",
       "      <th>qid1</th>\n",
       "      <th>qid2</th>\n",
       "      <th>question1</th>\n",
       "      <th>question2</th>\n",
       "      <th>is_duplicate</th>\n",
       "    </tr>\n",
       "  </thead>\n",
       "  <tbody>\n",
       "    <tr>\n",
       "      <th>0</th>\n",
       "      <td>0</td>\n",
       "      <td>1</td>\n",
       "      <td>2</td>\n",
       "      <td>What is the step by step guide to invest in sh...</td>\n",
       "      <td>What is the step by step guide to invest in sh...</td>\n",
       "      <td>0</td>\n",
       "    </tr>\n",
       "    <tr>\n",
       "      <th>1</th>\n",
       "      <td>1</td>\n",
       "      <td>3</td>\n",
       "      <td>4</td>\n",
       "      <td>What is the story of Kohinoor (Koh-i-Noor) Dia...</td>\n",
       "      <td>What would happen if the Indian government sto...</td>\n",
       "      <td>0</td>\n",
       "    </tr>\n",
       "    <tr>\n",
       "      <th>2</th>\n",
       "      <td>2</td>\n",
       "      <td>5</td>\n",
       "      <td>6</td>\n",
       "      <td>How can I increase the speed of my internet co...</td>\n",
       "      <td>How can Internet speed be increased by hacking...</td>\n",
       "      <td>0</td>\n",
       "    </tr>\n",
       "    <tr>\n",
       "      <th>3</th>\n",
       "      <td>3</td>\n",
       "      <td>7</td>\n",
       "      <td>8</td>\n",
       "      <td>Why am I mentally very lonely? How can I solve...</td>\n",
       "      <td>Find the remainder when [math]23^{24}[/math] i...</td>\n",
       "      <td>0</td>\n",
       "    </tr>\n",
       "    <tr>\n",
       "      <th>4</th>\n",
       "      <td>4</td>\n",
       "      <td>9</td>\n",
       "      <td>10</td>\n",
       "      <td>Which one dissolve in water quikly sugar, salt...</td>\n",
       "      <td>Which fish would survive in salt water?</td>\n",
       "      <td>0</td>\n",
       "    </tr>\n",
       "  </tbody>\n",
       "</table>\n",
       "</div>"
      ],
      "text/plain": [
       "   id  qid1  qid2                                          question1  \\\n",
       "0   0     1     2  What is the step by step guide to invest in sh...   \n",
       "1   1     3     4  What is the story of Kohinoor (Koh-i-Noor) Dia...   \n",
       "2   2     5     6  How can I increase the speed of my internet co...   \n",
       "3   3     7     8  Why am I mentally very lonely? How can I solve...   \n",
       "4   4     9    10  Which one dissolve in water quikly sugar, salt...   \n",
       "\n",
       "                                           question2  is_duplicate  \n",
       "0  What is the step by step guide to invest in sh...             0  \n",
       "1  What would happen if the Indian government sto...             0  \n",
       "2  How can Internet speed be increased by hacking...             0  \n",
       "3  Find the remainder when [math]23^{24}[/math] i...             0  \n",
       "4            Which fish would survive in salt water?             0  "
      ]
     },
     "execution_count": 2,
     "metadata": {},
     "output_type": "execute_result"
    }
   ],
   "source": [
    "df = pd.read_csv('/kaggle/input/quora-question-pairs/train.csv.zip')\n",
    "df.head()"
   ]
  },
  {
   "cell_type": "code",
   "execution_count": 3,
   "metadata": {
    "execution": {
     "iopub.execute_input": "2023-11-29T12:47:16.434958Z",
     "iopub.status.busy": "2023-11-29T12:47:16.434682Z",
     "iopub.status.idle": "2023-11-29T12:47:16.440976Z",
     "shell.execute_reply": "2023-11-29T12:47:16.440094Z",
     "shell.execute_reply.started": "2023-11-29T12:47:16.434934Z"
    }
   },
   "outputs": [
    {
     "data": {
      "text/plain": [
       "(404290, 6)"
      ]
     },
     "execution_count": 3,
     "metadata": {},
     "output_type": "execute_result"
    }
   ],
   "source": [
    "df.shape"
   ]
  },
  {
   "cell_type": "code",
   "execution_count": 4,
   "metadata": {
    "execution": {
     "iopub.execute_input": "2023-11-29T12:47:16.494238Z",
     "iopub.status.busy": "2023-11-29T12:47:16.493605Z",
     "iopub.status.idle": "2023-11-29T12:47:16.535673Z",
     "shell.execute_reply": "2023-11-29T12:47:16.534734Z",
     "shell.execute_reply.started": "2023-11-29T12:47:16.494202Z"
    }
   },
   "outputs": [],
   "source": [
    "df=df.sample(100000,random_state=2)"
   ]
  },
  {
   "cell_type": "code",
   "execution_count": 5,
   "metadata": {
    "execution": {
     "iopub.execute_input": "2023-11-29T12:47:17.324659Z",
     "iopub.status.busy": "2023-11-29T12:47:17.323849Z",
     "iopub.status.idle": "2023-11-29T12:47:17.362757Z",
     "shell.execute_reply": "2023-11-29T12:47:17.361832Z",
     "shell.execute_reply.started": "2023-11-29T12:47:17.324617Z"
    }
   },
   "outputs": [
    {
     "data": {
      "text/plain": [
       "id              0\n",
       "qid1            0\n",
       "qid2            0\n",
       "question1       0\n",
       "question2       1\n",
       "is_duplicate    0\n",
       "dtype: int64"
      ]
     },
     "execution_count": 5,
     "metadata": {},
     "output_type": "execute_result"
    }
   ],
   "source": [
    "df.isna().sum()"
   ]
  },
  {
   "cell_type": "code",
   "execution_count": null,
   "metadata": {
    "execution": {
     "iopub.execute_input": "2023-11-28T14:13:18.182505Z",
     "iopub.status.busy": "2023-11-28T14:13:18.182239Z",
     "iopub.status.idle": "2023-11-28T14:13:18.227612Z",
     "shell.execute_reply": "2023-11-28T14:13:18.226758Z",
     "shell.execute_reply.started": "2023-11-28T14:13:18.182479Z"
    }
   },
   "outputs": [],
   "source": [
    "df.dropna(inplace=True)\n"
   ]
  },
  {
   "cell_type": "code",
   "execution_count": null,
   "metadata": {
    "execution": {
     "iopub.execute_input": "2023-11-28T14:13:18.228886Z",
     "iopub.status.busy": "2023-11-28T14:13:18.228604Z",
     "iopub.status.idle": "2023-11-28T14:13:18.233426Z",
     "shell.execute_reply": "2023-11-28T14:13:18.232475Z",
     "shell.execute_reply.started": "2023-11-28T14:13:18.228854Z"
    }
   },
   "outputs": [],
   "source": [
    "df.reset_index(drop=True, inplace=True)"
   ]
  },
  {
   "cell_type": "code",
   "execution_count": null,
   "metadata": {
    "execution": {
     "iopub.execute_input": "2023-11-28T14:13:18.234886Z",
     "iopub.status.busy": "2023-11-28T14:13:18.234596Z",
     "iopub.status.idle": "2023-11-28T14:13:18.252448Z",
     "shell.execute_reply": "2023-11-28T14:13:18.251562Z",
     "shell.execute_reply.started": "2023-11-28T14:13:18.234846Z"
    }
   },
   "outputs": [],
   "source": [
    "df"
   ]
  },
  {
   "cell_type": "code",
   "execution_count": null,
   "metadata": {
    "execution": {
     "iopub.execute_input": "2023-11-28T14:13:18.254111Z",
     "iopub.status.busy": "2023-11-28T14:13:18.253858Z",
     "iopub.status.idle": "2023-11-28T14:13:18.262831Z",
     "shell.execute_reply": "2023-11-28T14:13:18.261766Z",
     "shell.execute_reply.started": "2023-11-28T14:13:18.254080Z"
    }
   },
   "outputs": [],
   "source": [
    "df.shape"
   ]
  },
  {
   "cell_type": "code",
   "execution_count": null,
   "metadata": {
    "execution": {
     "iopub.execute_input": "2023-11-28T14:13:18.266107Z",
     "iopub.status.busy": "2023-11-28T14:13:18.265828Z",
     "iopub.status.idle": "2023-11-28T14:13:18.274487Z",
     "shell.execute_reply": "2023-11-28T14:13:18.273578Z",
     "shell.execute_reply.started": "2023-11-28T14:13:18.266083Z"
    }
   },
   "outputs": [],
   "source": [
    "df.is_duplicate"
   ]
  },
  {
   "cell_type": "code",
   "execution_count": null,
   "metadata": {
    "execution": {
     "iopub.execute_input": "2023-11-28T14:13:18.275965Z",
     "iopub.status.busy": "2023-11-28T14:13:18.275650Z",
     "iopub.status.idle": "2023-11-28T14:13:18.404535Z",
     "shell.execute_reply": "2023-11-28T14:13:18.403586Z",
     "shell.execute_reply.started": "2023-11-28T14:13:18.275942Z"
    }
   },
   "outputs": [],
   "source": [
    "df.duplicated().sum()"
   ]
  },
  {
   "cell_type": "code",
   "execution_count": null,
   "metadata": {
    "execution": {
     "iopub.execute_input": "2023-11-28T14:13:18.406041Z",
     "iopub.status.busy": "2023-11-28T14:13:18.405749Z",
     "iopub.status.idle": "2023-11-28T14:13:18.682943Z",
     "shell.execute_reply": "2023-11-28T14:13:18.681926Z",
     "shell.execute_reply.started": "2023-11-28T14:13:18.406018Z"
    }
   },
   "outputs": [],
   "source": [
    "print(df['is_duplicate'].value_counts())\n",
    "print((df[\"is_duplicate\"].value_counts()/df[\"is_duplicate\"].count())*100)\n",
    "df[\"is_duplicate\"].value_counts().plot(kind=\"bar\")"
   ]
  },
  {
   "cell_type": "code",
   "execution_count": null,
   "metadata": {
    "execution": {
     "iopub.execute_input": "2023-11-23T14:58:58.089162Z",
     "iopub.status.busy": "2023-11-23T14:58:58.088883Z",
     "iopub.status.idle": "2023-11-23T14:58:58.619200Z",
     "shell.execute_reply": "2023-11-23T14:58:58.618203Z",
     "shell.execute_reply.started": "2023-11-23T14:58:58.089138Z"
    }
   },
   "outputs": [],
   "source": [
    "#repeated question\n",
    "qid=pd.Series(df[\"qid1\"].tolist()+df[\"qid2\"].tolist())\n",
    "print(\"Number of unique question\",np.unique(qid).shape[0])\n",
    "x=qid.value_counts()>1\n",
    "print(\"Number of repeated question\",x[x].shape[0])\n",
    "# pd.Series(new_df[\"qid1\"].tolist()+new_df[\"qid2\"].tolist())"
   ]
  },
  {
   "cell_type": "code",
   "execution_count": null,
   "metadata": {
    "execution": {
     "iopub.execute_input": "2023-11-23T14:58:58.620583Z",
     "iopub.status.busy": "2023-11-23T14:58:58.620279Z",
     "iopub.status.idle": "2023-11-23T14:58:58.680763Z",
     "shell.execute_reply": "2023-11-23T14:58:58.679692Z",
     "shell.execute_reply.started": "2023-11-23T14:58:58.620557Z"
    }
   },
   "outputs": [],
   "source": [
    "x=qid.value_counts()>1"
   ]
  },
  {
   "cell_type": "code",
   "execution_count": null,
   "metadata": {
    "execution": {
     "iopub.execute_input": "2023-11-23T14:58:58.682494Z",
     "iopub.status.busy": "2023-11-23T14:58:58.682101Z",
     "iopub.status.idle": "2023-11-23T14:58:58.692065Z",
     "shell.execute_reply": "2023-11-23T14:58:58.691190Z",
     "shell.execute_reply.started": "2023-11-23T14:58:58.682440Z"
    }
   },
   "outputs": [],
   "source": [
    "x[x].shape[0]"
   ]
  },
  {
   "cell_type": "code",
   "execution_count": null,
   "metadata": {
    "execution": {
     "iopub.execute_input": "2023-11-23T14:58:58.693480Z",
     "iopub.status.busy": "2023-11-23T14:58:58.693162Z",
     "iopub.status.idle": "2023-11-23T14:58:59.824097Z",
     "shell.execute_reply": "2023-11-23T14:58:59.823075Z",
     "shell.execute_reply.started": "2023-11-23T14:58:58.693431Z"
    }
   },
   "outputs": [],
   "source": [
    "plt.hist(qid.value_counts().values,bins=160)\n",
    "plt.yscale(\"log\")\n",
    "plt.show()"
   ]
  },
  {
   "cell_type": "code",
   "execution_count": null,
   "metadata": {
    "execution": {
     "iopub.execute_input": "2023-11-23T14:58:59.825691Z",
     "iopub.status.busy": "2023-11-23T14:58:59.825347Z",
     "iopub.status.idle": "2023-11-23T14:59:00.357505Z",
     "shell.execute_reply": "2023-11-23T14:59:00.356496Z",
     "shell.execute_reply.started": "2023-11-23T14:58:59.825661Z"
    }
   },
   "outputs": [],
   "source": [
    "df[\"q1_len\"]=df[\"question1\"].str.len()\n",
    "df[\"q2_len\"]=df[\"question2\"].str.len()"
   ]
  },
  {
   "cell_type": "code",
   "execution_count": null,
   "metadata": {
    "execution": {
     "iopub.execute_input": "2023-11-23T14:59:00.359118Z",
     "iopub.status.busy": "2023-11-23T14:59:00.358855Z",
     "iopub.status.idle": "2023-11-23T14:59:00.374109Z",
     "shell.execute_reply": "2023-11-23T14:59:00.373134Z",
     "shell.execute_reply.started": "2023-11-23T14:59:00.359096Z"
    }
   },
   "outputs": [],
   "source": [
    "df"
   ]
  },
  {
   "cell_type": "code",
   "execution_count": null,
   "metadata": {
    "execution": {
     "iopub.execute_input": "2023-11-23T14:59:00.375581Z",
     "iopub.status.busy": "2023-11-23T14:59:00.375281Z",
     "iopub.status.idle": "2023-11-23T14:59:00.384355Z",
     "shell.execute_reply": "2023-11-23T14:59:00.383432Z",
     "shell.execute_reply.started": "2023-11-23T14:59:00.375556Z"
    }
   },
   "outputs": [],
   "source": [
    "def common(row):\n",
    "    w1=set(map(lambda word: word.lower().strip(),row[\"question1\"].split(\" \")))\n",
    "    w2=set(map(lambda word: word.lower().strip(),row[\"question2\"].split(\" \")))\n",
    "    return len(w1&w2)"
   ]
  },
  {
   "cell_type": "code",
   "execution_count": null,
   "metadata": {
    "execution": {
     "iopub.execute_input": "2023-11-23T14:59:00.385735Z",
     "iopub.status.busy": "2023-11-23T14:59:00.385405Z",
     "iopub.status.idle": "2023-11-23T14:59:00.396964Z",
     "shell.execute_reply": "2023-11-23T14:59:00.395951Z",
     "shell.execute_reply.started": "2023-11-23T14:59:00.385709Z"
    }
   },
   "outputs": [],
   "source": [
    "set(map(lambda word: word.lower().strip(),\"I am poor but I want to invest. What should I do?\".split(\" \")))"
   ]
  },
  {
   "cell_type": "code",
   "execution_count": null,
   "metadata": {
    "execution": {
     "iopub.execute_input": "2023-11-23T14:59:00.398398Z",
     "iopub.status.busy": "2023-11-23T14:59:00.398092Z",
     "iopub.status.idle": "2023-11-23T14:59:00.407736Z",
     "shell.execute_reply": "2023-11-23T14:59:00.406820Z",
     "shell.execute_reply.started": "2023-11-23T14:59:00.398373Z"
    }
   },
   "outputs": [],
   "source": [
    "lambda word: word.lower().strip(),\"I am poor but I want to invest. What should I do?\".split(\" \")"
   ]
  },
  {
   "cell_type": "code",
   "execution_count": null,
   "metadata": {
    "execution": {
     "iopub.execute_input": "2023-11-23T14:59:00.409051Z",
     "iopub.status.busy": "2023-11-23T14:59:00.408797Z",
     "iopub.status.idle": "2023-11-23T14:59:11.554873Z",
     "shell.execute_reply": "2023-11-23T14:59:11.553880Z",
     "shell.execute_reply.started": "2023-11-23T14:59:00.409011Z"
    }
   },
   "outputs": [],
   "source": [
    "df['common_word']=df.apply(common,axis=1)"
   ]
  },
  {
   "cell_type": "code",
   "execution_count": null,
   "metadata": {
    "execution": {
     "iopub.execute_input": "2023-11-23T14:59:11.556286Z",
     "iopub.status.busy": "2023-11-23T14:59:11.556015Z",
     "iopub.status.idle": "2023-11-23T14:59:11.562068Z",
     "shell.execute_reply": "2023-11-23T14:59:11.561143Z",
     "shell.execute_reply.started": "2023-11-23T14:59:11.556263Z"
    }
   },
   "outputs": [],
   "source": [
    "def total_words(row):\n",
    "    w1=set(map(lambda word: word.lower().strip(),row[\"question1\"].split(\" \")))\n",
    "    w2=set(map(lambda word: word.lower().strip(),row[\"question2\"].split(\" \")))\n",
    "    return (len(w1)+len(w2))"
   ]
  },
  {
   "cell_type": "code",
   "execution_count": null,
   "metadata": {
    "execution": {
     "iopub.execute_input": "2023-11-23T14:59:11.564077Z",
     "iopub.status.busy": "2023-11-23T14:59:11.563374Z",
     "iopub.status.idle": "2023-11-23T14:59:22.090214Z",
     "shell.execute_reply": "2023-11-23T14:59:22.089165Z",
     "shell.execute_reply.started": "2023-11-23T14:59:11.564043Z"
    }
   },
   "outputs": [],
   "source": [
    "df[\"word_total\"]=df.apply(total_words,axis=1)\n",
    "df.head()"
   ]
  },
  {
   "cell_type": "code",
   "execution_count": null,
   "metadata": {
    "execution": {
     "iopub.execute_input": "2023-11-23T14:59:22.091848Z",
     "iopub.status.busy": "2023-11-23T14:59:22.091518Z",
     "iopub.status.idle": "2023-11-23T14:59:22.099259Z",
     "shell.execute_reply": "2023-11-23T14:59:22.098439Z",
     "shell.execute_reply.started": "2023-11-23T14:59:22.091819Z"
    }
   },
   "outputs": [],
   "source": [
    "df[\"word_share\"]=round(df[\"common_word\"]/df[\"word_total\"],2)"
   ]
  },
  {
   "cell_type": "code",
   "execution_count": null,
   "metadata": {
    "execution": {
     "iopub.execute_input": "2023-11-23T14:59:22.101969Z",
     "iopub.status.busy": "2023-11-23T14:59:22.101305Z",
     "iopub.status.idle": "2023-11-23T14:59:24.053678Z",
     "shell.execute_reply": "2023-11-23T14:59:24.052712Z",
     "shell.execute_reply.started": "2023-11-23T14:59:22.101930Z"
    }
   },
   "outputs": [],
   "source": [
    "sns.displot(df[\"q1_len\"])\n",
    "print(\"minimum characters\",df[\"q1_len\"].min())\n",
    "print(\"maximum characters\",df[\"q1_len\"].max())\n",
    "print(\"average num of characters\",int(df[\"q1_len\"].mean()))"
   ]
  },
  {
   "cell_type": "code",
   "execution_count": null,
   "metadata": {
    "execution": {
     "iopub.execute_input": "2023-11-23T14:59:24.055529Z",
     "iopub.status.busy": "2023-11-23T14:59:24.055049Z",
     "iopub.status.idle": "2023-11-23T14:59:27.348503Z",
     "shell.execute_reply": "2023-11-23T14:59:27.347728Z",
     "shell.execute_reply.started": "2023-11-23T14:59:24.055493Z"
    }
   },
   "outputs": [],
   "source": [
    "sns.displot(df[\"q2_len\"])\n",
    "print(\"minimum characters\",df[\"q2_len\"].min())\n",
    "print(\"maximum characters\",df[\"q2_len\"].max())\n",
    "print(\"average num of characters\",int(df[\"q2_len\"].mean()))"
   ]
  },
  {
   "cell_type": "code",
   "execution_count": null,
   "metadata": {
    "execution": {
     "iopub.execute_input": "2023-11-23T14:59:27.350484Z",
     "iopub.status.busy": "2023-11-23T14:59:27.350074Z",
     "iopub.status.idle": "2023-11-23T14:59:27.447653Z",
     "shell.execute_reply": "2023-11-23T14:59:27.446750Z",
     "shell.execute_reply.started": "2023-11-23T14:59:27.350430Z"
    }
   },
   "outputs": [],
   "source": [
    "df.isna().sum()"
   ]
  },
  {
   "cell_type": "code",
   "execution_count": null,
   "metadata": {
    "execution": {
     "iopub.execute_input": "2023-11-23T14:59:27.449106Z",
     "iopub.status.busy": "2023-11-23T14:59:27.448793Z",
     "iopub.status.idle": "2023-11-23T14:59:28.536436Z",
     "shell.execute_reply": "2023-11-23T14:59:28.535608Z",
     "shell.execute_reply.started": "2023-11-23T14:59:27.449074Z"
    }
   },
   "outputs": [],
   "source": [
    "df[\"q1_num_words\"]=df[\"question1\"].apply(lambda row: len(row.split(\" \")))\n",
    "df[\"q2_num_words\"]=df[\"question2\"].apply(lambda row: len(row.split(\" \")))"
   ]
  },
  {
   "cell_type": "code",
   "execution_count": null,
   "metadata": {
    "execution": {
     "iopub.execute_input": "2023-11-23T14:59:28.538274Z",
     "iopub.status.busy": "2023-11-23T14:59:28.537978Z",
     "iopub.status.idle": "2023-11-23T14:59:30.571269Z",
     "shell.execute_reply": "2023-11-23T14:59:30.570324Z",
     "shell.execute_reply.started": "2023-11-23T14:59:28.538247Z"
    }
   },
   "outputs": [],
   "source": [
    "sns.displot(df[\"q1_num_words\"])\n",
    "print(\"minimum characters\",df[\"q1_num_words\"].min())\n",
    "print(\"maximum characters\",df[\"q1_num_words\"].max())\n",
    "print(\"average num of characters\",int(df[\"q1_num_words\"].mean()))"
   ]
  },
  {
   "cell_type": "code",
   "execution_count": null,
   "metadata": {
    "execution": {
     "iopub.execute_input": "2023-11-23T14:59:30.576185Z",
     "iopub.status.busy": "2023-11-23T14:59:30.575886Z",
     "iopub.status.idle": "2023-11-23T14:59:32.844787Z",
     "shell.execute_reply": "2023-11-23T14:59:32.843798Z",
     "shell.execute_reply.started": "2023-11-23T14:59:30.576159Z"
    }
   },
   "outputs": [],
   "source": [
    "#common words\n",
    "sns.distplot(df[df[\"is_duplicate\"]==0][\"common_word\"],label=\"non_duplicate\")\n",
    "sns.distplot(df[df[\"is_duplicate\"]==1][\"common_word\"],label=\"duplicate\")\n",
    "plt.legend()\n",
    "plt.show()"
   ]
  },
  {
   "cell_type": "code",
   "execution_count": null,
   "metadata": {
    "execution": {
     "iopub.execute_input": "2023-11-23T14:59:32.846403Z",
     "iopub.status.busy": "2023-11-23T14:59:32.846099Z",
     "iopub.status.idle": "2023-11-23T14:59:32.851365Z",
     "shell.execute_reply": "2023-11-23T14:59:32.850191Z",
     "shell.execute_reply.started": "2023-11-23T14:59:32.846376Z"
    }
   },
   "outputs": [],
   "source": [
    "# def common(row):\n",
    "#     # Check if the values in \"question1\" and \"question2\" are not NaN or float\n",
    "#     if isinstance(row[\"question1\"], str) and isinstance(row[\"question2\"], str):\n",
    "#         w1 = set(map(lambda word: word.lower().strip(), row[\"question1\"].split(\" \")))\n",
    "#         w2 = set(map(lambda word: word.lower().strip(), row[\"question2\"].split(\" \")))\n",
    "#         return len(w1 & w2)\n",
    "#     else:\n",
    "#         # Handle the case where either \"question1\" or \"question2\" is not a string\n",
    "#         return 0  # or any other appropriate value based on your requirements\n",
    "\n",
    "# df['common_word'] = df.apply(common, axis=1)\n"
   ]
  },
  {
   "cell_type": "code",
   "execution_count": null,
   "metadata": {},
   "outputs": [],
   "source": [
    "# df['common_word']=df.apply(common,axis=1)"
   ]
  },
  {
   "cell_type": "code",
   "execution_count": null,
   "metadata": {},
   "outputs": [],
   "source": [
    "# df['common_word'].dtype"
   ]
  },
  {
   "cell_type": "code",
   "execution_count": null,
   "metadata": {
    "execution": {
     "iopub.execute_input": "2023-11-23T14:59:32.852988Z",
     "iopub.status.busy": "2023-11-23T14:59:32.852618Z",
     "iopub.status.idle": "2023-11-23T14:59:32.879462Z",
     "shell.execute_reply": "2023-11-23T14:59:32.878770Z",
     "shell.execute_reply.started": "2023-11-23T14:59:32.852957Z"
    }
   },
   "outputs": [],
   "source": [
    "ques_df=df[[\"question1\",\"question2\"]]"
   ]
  },
  {
   "cell_type": "code",
   "execution_count": null,
   "metadata": {
    "execution": {
     "iopub.execute_input": "2023-11-23T14:59:32.880709Z",
     "iopub.status.busy": "2023-11-23T14:59:32.880411Z",
     "iopub.status.idle": "2023-11-23T14:59:32.889385Z",
     "shell.execute_reply": "2023-11-23T14:59:32.888488Z",
     "shell.execute_reply.started": "2023-11-23T14:59:32.880684Z"
    }
   },
   "outputs": [],
   "source": [
    "ques_df.head()"
   ]
  },
  {
   "cell_type": "code",
   "execution_count": null,
   "metadata": {
    "execution": {
     "iopub.execute_input": "2023-11-23T14:59:32.891014Z",
     "iopub.status.busy": "2023-11-23T14:59:32.890781Z",
     "iopub.status.idle": "2023-11-23T14:59:32.920263Z",
     "shell.execute_reply": "2023-11-23T14:59:32.919502Z",
     "shell.execute_reply.started": "2023-11-23T14:59:32.890993Z"
    }
   },
   "outputs": [],
   "source": [
    "final_df=df.drop(columns=[\"id\",\"qid1\",\"qid2\",\"question1\",\"question2\"])"
   ]
  },
  {
   "cell_type": "code",
   "execution_count": null,
   "metadata": {
    "execution": {
     "iopub.execute_input": "2023-11-23T14:59:32.922323Z",
     "iopub.status.busy": "2023-11-23T14:59:32.921426Z",
     "iopub.status.idle": "2023-11-23T14:59:32.928329Z",
     "shell.execute_reply": "2023-11-23T14:59:32.927456Z",
     "shell.execute_reply.started": "2023-11-23T14:59:32.922288Z"
    }
   },
   "outputs": [],
   "source": [
    "final_df.shape"
   ]
  },
  {
   "cell_type": "code",
   "execution_count": null,
   "metadata": {
    "execution": {
     "iopub.execute_input": "2023-11-23T14:59:32.929681Z",
     "iopub.status.busy": "2023-11-23T14:59:32.929377Z",
     "iopub.status.idle": "2023-11-23T14:59:55.728409Z",
     "shell.execute_reply": "2023-11-23T14:59:55.727340Z",
     "shell.execute_reply.started": "2023-11-23T14:59:32.929656Z"
    }
   },
   "outputs": [],
   "source": [
    "from sklearn.feature_extraction.text import CountVectorizer\n",
    "#merge\n",
    "questions=list(ques_df[\"question1\"])+list(ques_df[\"question2\"])\n",
    "cv=CountVectorizer(max_features=4000)\n",
    "q1_arr,q2_arr=np.vsplit(cv.fit_transform(questions).toarray(),2)"
   ]
  },
  {
   "cell_type": "code",
   "execution_count": null,
   "metadata": {
    "execution": {
     "iopub.execute_input": "2023-11-23T14:59:55.730101Z",
     "iopub.status.busy": "2023-11-23T14:59:55.729793Z"
    }
   },
   "outputs": [],
   "source": [
    "temp_df1=pd.DataFrame(q1_arr,index=ques_df.index)\n",
    "temp_df2=pd.DataFrame(q2_arr,index=ques_df.index)\n",
    "temp_df=pd.concat([temp_df1,temp_df2],axis=1)\n",
    "temp_df.shape"
   ]
  },
  {
   "cell_type": "code",
   "execution_count": null,
   "metadata": {},
   "outputs": [],
   "source": [
    "temp_df.head()"
   ]
  },
  {
   "cell_type": "code",
   "execution_count": null,
   "metadata": {},
   "outputs": [],
   "source": [
    "temp_df.to_csv('temp_df.csv', index=False)"
   ]
  },
  {
   "cell_type": "code",
   "execution_count": null,
   "metadata": {
    "execution": {
     "iopub.execute_input": "2023-11-23T14:43:16.557971Z",
     "iopub.status.busy": "2023-11-23T14:43:16.557595Z",
     "iopub.status.idle": "2023-11-23T14:43:38.226727Z",
     "shell.execute_reply": "2023-11-23T14:43:38.224767Z",
     "shell.execute_reply.started": "2023-11-23T14:43:16.557942Z"
    }
   },
   "outputs": [],
   "source": [
    "final_df=pd.concat([final_df,temp_df],axis=1)\n",
    "final_df.shape"
   ]
  },
  {
   "cell_type": "code",
   "execution_count": null,
   "metadata": {},
   "outputs": [],
   "source": [
    "final_df.to_csv('Quora Question Pairs .csv', index=False)"
   ]
  },
  {
   "cell_type": "code",
   "execution_count": null,
   "metadata": {},
   "outputs": [],
   "source": [
    "import pandas as pd"
   ]
  },
  {
   "cell_type": "code",
   "execution_count": null,
   "metadata": {
    "execution": {
     "iopub.execute_input": "2023-11-26T10:22:03.824900Z",
     "iopub.status.busy": "2023-11-26T10:22:03.824518Z",
     "iopub.status.idle": "2023-11-26T10:24:13.398699Z",
     "shell.execute_reply": "2023-11-26T10:24:13.397509Z",
     "shell.execute_reply.started": "2023-11-26T10:22:03.824872Z"
    }
   },
   "outputs": [],
   "source": [
    "final_df=pd.read_csv('Quora Question Pairs .csv')"
   ]
  },
  {
   "cell_type": "code",
   "execution_count": null,
   "metadata": {
    "execution": {
     "iopub.execute_input": "2023-11-26T10:24:13.481315Z",
     "iopub.status.busy": "2023-11-26T10:24:13.481003Z",
     "iopub.status.idle": "2023-11-26T10:24:13.513417Z",
     "shell.execute_reply": "2023-11-26T10:24:13.512556Z",
     "shell.execute_reply.started": "2023-11-26T10:24:13.481262Z"
    }
   },
   "outputs": [],
   "source": [
    "final_df"
   ]
  },
  {
   "cell_type": "code",
   "execution_count": null,
   "metadata": {
    "execution": {
     "iopub.execute_input": "2023-11-26T10:24:30.241775Z",
     "iopub.status.busy": "2023-11-26T10:24:30.241436Z",
     "iopub.status.idle": "2023-11-26T10:24:52.351876Z",
     "shell.execute_reply": "2023-11-26T10:24:52.350853Z",
     "shell.execute_reply.started": "2023-11-26T10:24:30.241749Z"
    }
   },
   "outputs": [],
   "source": [
    "from sklearn.model_selection import train_test_split\n",
    "X_train,X_test,y_train,y_test=train_test_split(final_df.iloc[:,1:].values,final_df.iloc[:,0].values,test_size=.2,random_state=2)"
   ]
  },
  {
   "cell_type": "code",
   "execution_count": null,
   "metadata": {
    "execution": {
     "iopub.execute_input": "2023-11-26T10:24:52.353865Z",
     "iopub.status.busy": "2023-11-26T10:24:52.353548Z",
     "iopub.status.idle": "2023-11-26T10:30:24.275080Z",
     "shell.execute_reply": "2023-11-26T10:30:24.274056Z",
     "shell.execute_reply.started": "2023-11-26T10:24:52.353840Z"
    }
   },
   "outputs": [],
   "source": [
    "from sklearn.ensemble import RandomForestClassifier\n",
    "from sklearn.metrics import accuracy_score\n",
    "rf=RandomForestClassifier()\n",
    "rf.fit(X_train,y_train)\n",
    "y_pred=rf.predict(X_test)\n",
    "accuracy_score(y_test,y_pred)"
   ]
  },
  {
   "cell_type": "code",
   "execution_count": null,
   "metadata": {},
   "outputs": [],
   "source": [
    "from xgboost import XGBClassifier\n",
    "xgb=XGBClassifier()\n",
    "xgb.fit(X_train,y_train)\n",
    "y_pred=xgb.predict(X_test)\n",
    "accuracy_score(y_test,y_pred)"
   ]
  },
  {
   "cell_type": "code",
   "execution_count": null,
   "metadata": {},
   "outputs": [],
   "source": []
  },
  {
   "cell_type": "code",
   "execution_count": null,
   "metadata": {},
   "outputs": [],
   "source": []
  },
  {
   "cell_type": "code",
   "execution_count": null,
   "metadata": {},
   "outputs": [],
   "source": []
  },
  {
   "cell_type": "code",
   "execution_count": null,
   "metadata": {},
   "outputs": [],
   "source": []
  },
  {
   "cell_type": "code",
   "execution_count": null,
   "metadata": {
    "execution": {
     "iopub.execute_input": "2023-11-26T10:37:32.103271Z",
     "iopub.status.busy": "2023-11-26T10:37:32.102596Z",
     "iopub.status.idle": "2023-11-26T10:37:33.634223Z",
     "shell.execute_reply": "2023-11-26T10:37:33.633198Z",
     "shell.execute_reply.started": "2023-11-26T10:37:32.103231Z"
    }
   },
   "outputs": [],
   "source": [
    "df = pd.read_csv('/kaggle/input/quora-question-pairs/train.csv.zip')\n",
    "df.head()"
   ]
  },
  {
   "cell_type": "code",
   "execution_count": null,
   "metadata": {
    "execution": {
     "iopub.execute_input": "2023-11-26T10:37:41.783924Z",
     "iopub.status.busy": "2023-11-26T10:37:41.783159Z",
     "iopub.status.idle": "2023-11-26T10:37:41.790014Z",
     "shell.execute_reply": "2023-11-26T10:37:41.789014Z",
     "shell.execute_reply.started": "2023-11-26T10:37:41.783888Z"
    }
   },
   "outputs": [],
   "source": [
    "df.shape"
   ]
  },
  {
   "cell_type": "code",
   "execution_count": null,
   "metadata": {
    "execution": {
     "iopub.execute_input": "2023-11-26T11:50:42.037374Z",
     "iopub.status.busy": "2023-11-26T11:50:42.036744Z",
     "iopub.status.idle": "2023-11-26T11:50:42.057520Z",
     "shell.execute_reply": "2023-11-26T11:50:42.056569Z",
     "shell.execute_reply.started": "2023-11-26T11:50:42.037345Z"
    }
   },
   "outputs": [],
   "source": [
    "df=df.sample(100000,random_state=2)"
   ]
  },
  {
   "cell_type": "code",
   "execution_count": null,
   "metadata": {
    "execution": {
     "iopub.execute_input": "2023-11-26T11:57:53.260262Z",
     "iopub.status.busy": "2023-11-26T11:57:53.259841Z",
     "iopub.status.idle": "2023-11-26T11:57:53.274743Z",
     "shell.execute_reply": "2023-11-26T11:57:53.273857Z",
     "shell.execute_reply.started": "2023-11-26T11:57:53.260233Z"
    }
   },
   "outputs": [],
   "source": [
    "df"
   ]
  },
  {
   "cell_type": "code",
   "execution_count": null,
   "metadata": {},
   "outputs": [],
   "source": []
  },
  {
   "cell_type": "code",
   "execution_count": null,
   "metadata": {
    "execution": {
     "iopub.execute_input": "2023-11-26T11:51:36.962640Z",
     "iopub.status.busy": "2023-11-26T11:51:36.962254Z",
     "iopub.status.idle": "2023-11-26T11:51:37.001777Z",
     "shell.execute_reply": "2023-11-26T11:51:37.000770Z",
     "shell.execute_reply.started": "2023-11-26T11:51:36.962609Z"
    }
   },
   "outputs": [],
   "source": [
    "df.isna().sum()"
   ]
  },
  {
   "cell_type": "code",
   "execution_count": null,
   "metadata": {
    "execution": {
     "iopub.execute_input": "2023-11-26T11:52:27.860643Z",
     "iopub.status.busy": "2023-11-26T11:52:27.860228Z",
     "iopub.status.idle": "2023-11-26T11:52:27.909668Z",
     "shell.execute_reply": "2023-11-26T11:52:27.908760Z",
     "shell.execute_reply.started": "2023-11-26T11:52:27.860612Z"
    }
   },
   "outputs": [],
   "source": [
    "df.dropna(inplace=True)\n"
   ]
  },
  {
   "cell_type": "code",
   "execution_count": null,
   "metadata": {
    "execution": {
     "iopub.execute_input": "2023-11-26T11:52:29.168618Z",
     "iopub.status.busy": "2023-11-26T11:52:29.168248Z",
     "iopub.status.idle": "2023-11-26T11:52:29.173445Z",
     "shell.execute_reply": "2023-11-26T11:52:29.172413Z",
     "shell.execute_reply.started": "2023-11-26T11:52:29.168590Z"
    }
   },
   "outputs": [],
   "source": [
    "df.reset_index(drop=True, inplace=True)"
   ]
  },
  {
   "cell_type": "code",
   "execution_count": null,
   "metadata": {
    "execution": {
     "iopub.execute_input": "2023-11-26T11:52:32.803116Z",
     "iopub.status.busy": "2023-11-26T11:52:32.802753Z",
     "iopub.status.idle": "2023-11-26T11:52:32.817729Z",
     "shell.execute_reply": "2023-11-26T11:52:32.816770Z",
     "shell.execute_reply.started": "2023-11-26T11:52:32.803087Z"
    }
   },
   "outputs": [],
   "source": [
    "df"
   ]
  },
  {
   "cell_type": "code",
   "execution_count": null,
   "metadata": {
    "execution": {
     "iopub.execute_input": "2023-11-26T11:58:04.193054Z",
     "iopub.status.busy": "2023-11-26T11:58:04.192188Z",
     "iopub.status.idle": "2023-11-26T11:58:04.205987Z",
     "shell.execute_reply": "2023-11-26T11:58:04.205215Z",
     "shell.execute_reply.started": "2023-11-26T11:58:04.193018Z"
    }
   },
   "outputs": [],
   "source": [
    "df"
   ]
  },
  {
   "cell_type": "code",
   "execution_count": null,
   "metadata": {
    "execution": {
     "iopub.execute_input": "2023-11-27T10:25:52.808166Z",
     "iopub.status.busy": "2023-11-27T10:25:52.807892Z",
     "iopub.status.idle": "2023-11-27T10:25:53.124280Z",
     "shell.execute_reply": "2023-11-27T10:25:53.123227Z",
     "shell.execute_reply.started": "2023-11-27T10:25:52.808142Z"
    }
   },
   "outputs": [],
   "source": [
    "df=pd.read_csv('final Quora Question Pairs.csv')"
   ]
  },
  {
   "cell_type": "code",
   "execution_count": null,
   "metadata": {
    "execution": {
     "iopub.execute_input": "2023-11-27T10:25:53.125850Z",
     "iopub.status.busy": "2023-11-27T10:25:53.125550Z",
     "iopub.status.idle": "2023-11-27T10:25:53.157943Z",
     "shell.execute_reply": "2023-11-27T10:25:53.157113Z",
     "shell.execute_reply.started": "2023-11-27T10:25:53.125824Z"
    }
   },
   "outputs": [],
   "source": [
    "df"
   ]
  },
  {
   "cell_type": "code",
   "execution_count": 6,
   "metadata": {
    "execution": {
     "iopub.execute_input": "2023-11-29T12:48:03.364361Z",
     "iopub.status.busy": "2023-11-29T12:48:03.363999Z",
     "iopub.status.idle": "2023-11-29T12:48:03.370315Z",
     "shell.execute_reply": "2023-11-29T12:48:03.369375Z",
     "shell.execute_reply.started": "2023-11-29T12:48:03.364334Z"
    }
   },
   "outputs": [],
   "source": [
    "import pandas as pd\n",
    "import numpy as np\n",
    "from sklearn.model_selection import train_test_split\n",
    "from sklearn.preprocessing import StandardScaler\n",
    "from sklearn.metrics import accuracy_score\n",
    "from tensorflow.keras.models import Sequential\n",
    "from tensorflow.keras.layers import Embedding, LSTM, Dense\n",
    "from tensorflow.keras.preprocessing.text import Tokenizer\n",
    "from tensorflow.keras.preprocessing.sequence import pad_sequences\n",
    "from tensorflow.keras.layers import SpatialDropout1D\n"
   ]
  },
  {
   "cell_type": "code",
   "execution_count": 7,
   "metadata": {
    "execution": {
     "iopub.execute_input": "2023-11-29T12:48:04.862435Z",
     "iopub.status.busy": "2023-11-29T12:48:04.861746Z",
     "iopub.status.idle": "2023-11-29T12:48:06.334553Z",
     "shell.execute_reply": "2023-11-29T12:48:06.333547Z",
     "shell.execute_reply.started": "2023-11-29T12:48:04.862403Z"
    }
   },
   "outputs": [
    {
     "data": {
      "text/html": [
       "<div>\n",
       "<style scoped>\n",
       "    .dataframe tbody tr th:only-of-type {\n",
       "        vertical-align: middle;\n",
       "    }\n",
       "\n",
       "    .dataframe tbody tr th {\n",
       "        vertical-align: top;\n",
       "    }\n",
       "\n",
       "    .dataframe thead th {\n",
       "        text-align: right;\n",
       "    }\n",
       "</style>\n",
       "<table border=\"1\" class=\"dataframe\">\n",
       "  <thead>\n",
       "    <tr style=\"text-align: right;\">\n",
       "      <th></th>\n",
       "      <th>id</th>\n",
       "      <th>qid1</th>\n",
       "      <th>qid2</th>\n",
       "      <th>question1</th>\n",
       "      <th>question2</th>\n",
       "      <th>is_duplicate</th>\n",
       "    </tr>\n",
       "  </thead>\n",
       "  <tbody>\n",
       "    <tr>\n",
       "      <th>0</th>\n",
       "      <td>0</td>\n",
       "      <td>1</td>\n",
       "      <td>2</td>\n",
       "      <td>What is the step by step guide to invest in sh...</td>\n",
       "      <td>What is the step by step guide to invest in sh...</td>\n",
       "      <td>0</td>\n",
       "    </tr>\n",
       "    <tr>\n",
       "      <th>1</th>\n",
       "      <td>1</td>\n",
       "      <td>3</td>\n",
       "      <td>4</td>\n",
       "      <td>What is the story of Kohinoor (Koh-i-Noor) Dia...</td>\n",
       "      <td>What would happen if the Indian government sto...</td>\n",
       "      <td>0</td>\n",
       "    </tr>\n",
       "    <tr>\n",
       "      <th>2</th>\n",
       "      <td>2</td>\n",
       "      <td>5</td>\n",
       "      <td>6</td>\n",
       "      <td>How can I increase the speed of my internet co...</td>\n",
       "      <td>How can Internet speed be increased by hacking...</td>\n",
       "      <td>0</td>\n",
       "    </tr>\n",
       "    <tr>\n",
       "      <th>3</th>\n",
       "      <td>3</td>\n",
       "      <td>7</td>\n",
       "      <td>8</td>\n",
       "      <td>Why am I mentally very lonely? How can I solve...</td>\n",
       "      <td>Find the remainder when [math]23^{24}[/math] i...</td>\n",
       "      <td>0</td>\n",
       "    </tr>\n",
       "    <tr>\n",
       "      <th>4</th>\n",
       "      <td>4</td>\n",
       "      <td>9</td>\n",
       "      <td>10</td>\n",
       "      <td>Which one dissolve in water quikly sugar, salt...</td>\n",
       "      <td>Which fish would survive in salt water?</td>\n",
       "      <td>0</td>\n",
       "    </tr>\n",
       "    <tr>\n",
       "      <th>...</th>\n",
       "      <td>...</td>\n",
       "      <td>...</td>\n",
       "      <td>...</td>\n",
       "      <td>...</td>\n",
       "      <td>...</td>\n",
       "      <td>...</td>\n",
       "    </tr>\n",
       "    <tr>\n",
       "      <th>404285</th>\n",
       "      <td>404285</td>\n",
       "      <td>433578</td>\n",
       "      <td>379845</td>\n",
       "      <td>How many keywords are there in the Racket prog...</td>\n",
       "      <td>How many keywords are there in PERL Programmin...</td>\n",
       "      <td>0</td>\n",
       "    </tr>\n",
       "    <tr>\n",
       "      <th>404286</th>\n",
       "      <td>404286</td>\n",
       "      <td>18840</td>\n",
       "      <td>155606</td>\n",
       "      <td>Do you believe there is life after death?</td>\n",
       "      <td>Is it true that there is life after death?</td>\n",
       "      <td>1</td>\n",
       "    </tr>\n",
       "    <tr>\n",
       "      <th>404287</th>\n",
       "      <td>404287</td>\n",
       "      <td>537928</td>\n",
       "      <td>537929</td>\n",
       "      <td>What is one coin?</td>\n",
       "      <td>What's this coin?</td>\n",
       "      <td>0</td>\n",
       "    </tr>\n",
       "    <tr>\n",
       "      <th>404288</th>\n",
       "      <td>404288</td>\n",
       "      <td>537930</td>\n",
       "      <td>537931</td>\n",
       "      <td>What is the approx annual cost of living while...</td>\n",
       "      <td>I am having little hairfall problem but I want...</td>\n",
       "      <td>0</td>\n",
       "    </tr>\n",
       "    <tr>\n",
       "      <th>404289</th>\n",
       "      <td>404289</td>\n",
       "      <td>537932</td>\n",
       "      <td>537933</td>\n",
       "      <td>What is like to have sex with cousin?</td>\n",
       "      <td>What is it like to have sex with your cousin?</td>\n",
       "      <td>0</td>\n",
       "    </tr>\n",
       "  </tbody>\n",
       "</table>\n",
       "<p>404290 rows × 6 columns</p>\n",
       "</div>"
      ],
      "text/plain": [
       "            id    qid1    qid2  \\\n",
       "0            0       1       2   \n",
       "1            1       3       4   \n",
       "2            2       5       6   \n",
       "3            3       7       8   \n",
       "4            4       9      10   \n",
       "...        ...     ...     ...   \n",
       "404285  404285  433578  379845   \n",
       "404286  404286   18840  155606   \n",
       "404287  404287  537928  537929   \n",
       "404288  404288  537930  537931   \n",
       "404289  404289  537932  537933   \n",
       "\n",
       "                                                question1  \\\n",
       "0       What is the step by step guide to invest in sh...   \n",
       "1       What is the story of Kohinoor (Koh-i-Noor) Dia...   \n",
       "2       How can I increase the speed of my internet co...   \n",
       "3       Why am I mentally very lonely? How can I solve...   \n",
       "4       Which one dissolve in water quikly sugar, salt...   \n",
       "...                                                   ...   \n",
       "404285  How many keywords are there in the Racket prog...   \n",
       "404286          Do you believe there is life after death?   \n",
       "404287                                  What is one coin?   \n",
       "404288  What is the approx annual cost of living while...   \n",
       "404289              What is like to have sex with cousin?   \n",
       "\n",
       "                                                question2  is_duplicate  \n",
       "0       What is the step by step guide to invest in sh...             0  \n",
       "1       What would happen if the Indian government sto...             0  \n",
       "2       How can Internet speed be increased by hacking...             0  \n",
       "3       Find the remainder when [math]23^{24}[/math] i...             0  \n",
       "4                 Which fish would survive in salt water?             0  \n",
       "...                                                   ...           ...  \n",
       "404285  How many keywords are there in PERL Programmin...             0  \n",
       "404286         Is it true that there is life after death?             1  \n",
       "404287                                  What's this coin?             0  \n",
       "404288  I am having little hairfall problem but I want...             0  \n",
       "404289      What is it like to have sex with your cousin?             0  \n",
       "\n",
       "[404290 rows x 6 columns]"
      ]
     },
     "execution_count": 7,
     "metadata": {},
     "output_type": "execute_result"
    }
   ],
   "source": [
    "df = pd.read_csv('/kaggle/input/quora-question-pairs/train.csv.zip')\n",
    "\n",
    "df"
   ]
  },
  {
   "cell_type": "code",
   "execution_count": 8,
   "metadata": {
    "execution": {
     "iopub.execute_input": "2023-11-29T12:48:06.336643Z",
     "iopub.status.busy": "2023-11-29T12:48:06.336370Z",
     "iopub.status.idle": "2023-11-29T12:48:06.427132Z",
     "shell.execute_reply": "2023-11-29T12:48:06.426204Z",
     "shell.execute_reply.started": "2023-11-29T12:48:06.336618Z"
    }
   },
   "outputs": [
    {
     "data": {
      "text/plain": [
       "id              0\n",
       "qid1            0\n",
       "qid2            0\n",
       "question1       1\n",
       "question2       2\n",
       "is_duplicate    0\n",
       "dtype: int64"
      ]
     },
     "execution_count": 8,
     "metadata": {},
     "output_type": "execute_result"
    }
   ],
   "source": [
    "df.isna().sum()"
   ]
  },
  {
   "cell_type": "code",
   "execution_count": 9,
   "metadata": {
    "execution": {
     "iopub.execute_input": "2023-11-29T12:48:06.428551Z",
     "iopub.status.busy": "2023-11-29T12:48:06.428219Z",
     "iopub.status.idle": "2023-11-29T12:48:06.551602Z",
     "shell.execute_reply": "2023-11-29T12:48:06.550811Z",
     "shell.execute_reply.started": "2023-11-29T12:48:06.428519Z"
    }
   },
   "outputs": [],
   "source": [
    "df.dropna(inplace=True)"
   ]
  },
  {
   "cell_type": "code",
   "execution_count": 10,
   "metadata": {
    "execution": {
     "iopub.execute_input": "2023-11-29T12:48:06.629860Z",
     "iopub.status.busy": "2023-11-29T12:48:06.629428Z",
     "iopub.status.idle": "2023-11-29T12:48:06.635691Z",
     "shell.execute_reply": "2023-11-29T12:48:06.634740Z",
     "shell.execute_reply.started": "2023-11-29T12:48:06.629821Z"
    }
   },
   "outputs": [],
   "source": [
    "df.reset_index(drop=True, inplace=True)"
   ]
  },
  {
   "cell_type": "code",
   "execution_count": 11,
   "metadata": {
    "execution": {
     "iopub.execute_input": "2023-11-29T12:48:07.131843Z",
     "iopub.status.busy": "2023-11-29T12:48:07.131520Z",
     "iopub.status.idle": "2023-11-29T12:48:07.136202Z",
     "shell.execute_reply": "2023-11-29T12:48:07.135265Z",
     "shell.execute_reply.started": "2023-11-29T12:48:07.131817Z"
    }
   },
   "outputs": [],
   "source": [
    "import tensorflow as tf\n",
    "from tensorflow.keras.preprocessing.text import Tokenizer"
   ]
  },
  {
   "cell_type": "code",
   "execution_count": 12,
   "metadata": {
    "execution": {
     "iopub.execute_input": "2023-11-29T12:48:08.293694Z",
     "iopub.status.busy": "2023-11-29T12:48:08.292895Z",
     "iopub.status.idle": "2023-11-29T12:48:08.307423Z",
     "shell.execute_reply": "2023-11-29T12:48:08.306536Z",
     "shell.execute_reply.started": "2023-11-29T12:48:08.293656Z"
    }
   },
   "outputs": [],
   "source": [
    "tokenizer=Tokenizer()"
   ]
  },
  {
   "cell_type": "code",
   "execution_count": 13,
   "metadata": {
    "execution": {
     "iopub.execute_input": "2023-11-29T12:48:09.672276Z",
     "iopub.status.busy": "2023-11-29T12:48:09.671905Z",
     "iopub.status.idle": "2023-11-29T12:48:20.797882Z",
     "shell.execute_reply": "2023-11-29T12:48:20.797106Z",
     "shell.execute_reply.started": "2023-11-29T12:48:09.672245Z"
    }
   },
   "outputs": [],
   "source": [
    "tokenizer.fit_on_texts(df['question1'] + df['question2'])\n",
    "vocab_size = len(tokenizer.word_index) + 1"
   ]
  },
  {
   "cell_type": "code",
   "execution_count": 14,
   "metadata": {
    "execution": {
     "iopub.execute_input": "2023-11-29T12:48:20.799733Z",
     "iopub.status.busy": "2023-11-29T12:48:20.799388Z",
     "iopub.status.idle": "2023-11-29T12:48:20.805731Z",
     "shell.execute_reply": "2023-11-29T12:48:20.804828Z",
     "shell.execute_reply.started": "2023-11-29T12:48:20.799705Z"
    }
   },
   "outputs": [
    {
     "data": {
      "text/plain": [
       "96493"
      ]
     },
     "execution_count": 14,
     "metadata": {},
     "output_type": "execute_result"
    }
   ],
   "source": [
    "vocab_size"
   ]
  },
  {
   "cell_type": "code",
   "execution_count": 15,
   "metadata": {
    "execution": {
     "iopub.execute_input": "2023-11-29T12:48:20.807141Z",
     "iopub.status.busy": "2023-11-29T12:48:20.806781Z",
     "iopub.status.idle": "2023-11-29T12:48:20.817796Z",
     "shell.execute_reply": "2023-11-29T12:48:20.816954Z",
     "shell.execute_reply.started": "2023-11-29T12:48:20.807108Z"
    }
   },
   "outputs": [
    {
     "data": {
      "text/plain": [
       "96492"
      ]
     },
     "execution_count": 15,
     "metadata": {},
     "output_type": "execute_result"
    }
   ],
   "source": [
    "len(tokenizer.word_index)"
   ]
  },
  {
   "cell_type": "code",
   "execution_count": 16,
   "metadata": {
    "execution": {
     "iopub.execute_input": "2023-11-29T12:48:20.819990Z",
     "iopub.status.busy": "2023-11-29T12:48:20.819723Z",
     "iopub.status.idle": "2023-11-29T12:48:34.069121Z",
     "shell.execute_reply": "2023-11-29T12:48:34.068157Z",
     "shell.execute_reply.started": "2023-11-29T12:48:20.819968Z"
    }
   },
   "outputs": [],
   "source": [
    "sequences1 = tokenizer.texts_to_sequences(df['question1'])\n",
    "sequences2 = tokenizer.texts_to_sequences(df['question2'])"
   ]
  },
  {
   "cell_type": "code",
   "execution_count": 17,
   "metadata": {
    "execution": {
     "iopub.execute_input": "2023-11-29T12:48:34.070577Z",
     "iopub.status.busy": "2023-11-29T12:48:34.070306Z",
     "iopub.status.idle": "2023-11-29T12:48:34.083124Z",
     "shell.execute_reply": "2023-11-29T12:48:34.082078Z",
     "shell.execute_reply.started": "2023-11-29T12:48:34.070554Z"
    }
   },
   "outputs": [],
   "source": [
    "all_sequences = sequences1 + sequences2\n"
   ]
  },
  {
   "cell_type": "code",
   "execution_count": 18,
   "metadata": {
    "execution": {
     "iopub.execute_input": "2023-11-29T12:48:34.084542Z",
     "iopub.status.busy": "2023-11-29T12:48:34.084293Z",
     "iopub.status.idle": "2023-11-29T12:48:34.172958Z",
     "shell.execute_reply": "2023-11-29T12:48:34.172101Z",
     "shell.execute_reply.started": "2023-11-29T12:48:34.084520Z"
    }
   },
   "outputs": [
    {
     "data": {
      "text/plain": [
       "237"
      ]
     },
     "execution_count": 18,
     "metadata": {},
     "output_type": "execute_result"
    }
   ],
   "source": [
    "max(len(seq) for seq in all_sequences)"
   ]
  },
  {
   "cell_type": "code",
   "execution_count": 19,
   "metadata": {
    "execution": {
     "iopub.execute_input": "2023-11-29T12:48:34.174565Z",
     "iopub.status.busy": "2023-11-29T12:48:34.174256Z",
     "iopub.status.idle": "2023-11-29T12:49:02.271941Z",
     "shell.execute_reply": "2023-11-29T12:49:02.271084Z",
     "shell.execute_reply.started": "2023-11-29T12:48:34.174539Z"
    }
   },
   "outputs": [
    {
     "data": {
      "image/png": "[encoded data removed]",
      "text/plain": [
       "<Figure size 640x480 with 1 Axes>"
      ]
     },
     "metadata": {},
     "output_type": "display_data"
    }
   ],
   "source": [
    "from tensorflow.keras.preprocessing.text import Tokenizer\n",
    "\n",
    "# Create a tokenizer\n",
    "tokenizer = Tokenizer()\n",
    "tokenizer.fit_on_texts(df['question1'] + df['question2'])\n",
    "\n",
    "# Convert text to sequences\n",
    "sequences1 = tokenizer.texts_to_sequences(df['question1'])\n",
    "sequences2 = tokenizer.texts_to_sequences(df['question2'])\n",
    "\n",
    "# Analyze the distribution of sequence lengths\n",
    "lengths1 = [len(seq) for seq in sequences1]\n",
    "lengths2 = [len(seq) for seq in sequences2]\n",
    "\n",
    "# Plot histograms or use summary statistics\n",
    "# For example, you can use matplotlib to plot histograms\n",
    "import matplotlib.pyplot as plt\n",
    "\n",
    "plt.hist(lengths1, bins=30, label='question1')\n",
    "plt.hist(lengths2, bins=30, label='question2')\n",
    "plt.xlabel('Sequence Length')\n",
    "plt.ylabel('Frequency')\n",
    "plt.legend()\n",
    "plt.show()\n"
   ]
  },
  {
   "cell_type": "code",
   "execution_count": 20,
   "metadata": {
    "execution": {
     "iopub.execute_input": "2023-11-29T12:49:02.273331Z",
     "iopub.status.busy": "2023-11-29T12:49:02.273053Z",
     "iopub.status.idle": "2023-11-29T12:49:02.837448Z",
     "shell.execute_reply": "2023-11-29T12:49:02.836264Z",
     "shell.execute_reply.started": "2023-11-29T12:49:02.273307Z"
    }
   },
   "outputs": [
    {
     "data": {
      "image/png": "[encoded data removed]",
      "text/plain": [
       "<Figure size 640x480 with 1 Axes>"
      ]
     },
     "metadata": {},
     "output_type": "display_data"
    }
   ],
   "source": [
    "plt.plot([len(seq) for seq in all_sequences])\n",
    "# Adding labels and title\n",
    "plt.xlabel('Sequence Index')\n",
    "plt.ylabel('Sequence Length')\n",
    "plt.title('Length of Sequences')\n",
    "\n",
    "# Display the plot\n",
    "plt.show()"
   ]
  },
  {
   "cell_type": "code",
   "execution_count": 21,
   "metadata": {
    "execution": {
     "iopub.execute_input": "2023-11-29T12:49:02.839294Z",
     "iopub.status.busy": "2023-11-29T12:49:02.838874Z",
     "iopub.status.idle": "2023-11-29T12:49:03.322542Z",
     "shell.execute_reply": "2023-11-29T12:49:03.321562Z",
     "shell.execute_reply.started": "2023-11-29T12:49:02.839252Z"
    }
   },
   "outputs": [
    {
     "data": {
      "image/png": "[encoded data removed]",
      "text/plain": [
       "<Figure size 640x480 with 1 Axes>"
      ]
     },
     "metadata": {},
     "output_type": "display_data"
    }
   ],
   "source": [
    "plt.plot([len(seq) for seq in sequences1])\n",
    "# Adding labels and title\n",
    "plt.xlabel('Sequence Index')\n",
    "plt.ylabel('Sequence Length')\n",
    "plt.title('Length of Sequences')\n",
    "\n",
    "# Display the plot\n",
    "plt.show()"
   ]
  },
  {
   "cell_type": "code",
   "execution_count": 22,
   "metadata": {
    "execution": {
     "iopub.execute_input": "2023-11-29T12:49:03.325379Z",
     "iopub.status.busy": "2023-11-29T12:49:03.325040Z",
     "iopub.status.idle": "2023-11-29T12:49:03.827727Z",
     "shell.execute_reply": "2023-11-29T12:49:03.826679Z",
     "shell.execute_reply.started": "2023-11-29T12:49:03.325352Z"
    }
   },
   "outputs": [
    {
     "data": {
      "image/png": "[encoded data removed]",
      "text/plain": [
       "<Figure size 640x480 with 1 Axes>"
      ]
     },
     "metadata": {},
     "output_type": "display_data"
    }
   ],
   "source": [
    "plt.plot([len(seq) for seq in sequences2])\n",
    "# Adding labels and title\n",
    "plt.xlabel('Sequence Index')\n",
    "plt.ylabel('Sequence Length')\n",
    "plt.title('Length of Sequences')\n",
    "\n",
    "# Display the plot\n",
    "plt.show()"
   ]
  },
  {
   "cell_type": "code",
   "execution_count": null,
   "metadata": {
    "execution": {
     "iopub.execute_input": "2023-11-27T10:29:16.844121Z",
     "iopub.status.busy": "2023-11-27T10:29:16.843207Z",
     "iopub.status.idle": "2023-11-27T10:29:20.460529Z",
     "shell.execute_reply": "2023-11-27T10:29:20.459659Z",
     "shell.execute_reply.started": "2023-11-27T10:29:16.844086Z"
    }
   },
   "outputs": [],
   "source": [
    "max_sequence_length = 50  \n",
    "padded_sequences1 = pad_sequences(sequences1, maxlen=max_sequence_length)\n",
    "padded_sequences2 = pad_sequences(sequences2, maxlen=max_sequence_length)"
   ]
  },
  {
   "cell_type": "code",
   "execution_count": null,
   "metadata": {
    "execution": {
     "iopub.execute_input": "2023-11-27T10:29:20.462295Z",
     "iopub.status.busy": "2023-11-27T10:29:20.462037Z",
     "iopub.status.idle": "2023-11-27T10:29:20.468615Z",
     "shell.execute_reply": "2023-11-27T10:29:20.467777Z",
     "shell.execute_reply.started": "2023-11-27T10:29:20.462272Z"
    }
   },
   "outputs": [],
   "source": [
    "padded_sequences1"
   ]
  },
  {
   "cell_type": "code",
   "execution_count": null,
   "metadata": {
    "execution": {
     "iopub.execute_input": "2023-11-27T10:29:20.470162Z",
     "iopub.status.busy": "2023-11-27T10:29:20.469749Z",
     "iopub.status.idle": "2023-11-27T10:29:20.638401Z",
     "shell.execute_reply": "2023-11-27T10:29:20.637567Z",
     "shell.execute_reply.started": "2023-11-27T10:29:20.470128Z"
    }
   },
   "outputs": [],
   "source": [
    "X = np.hstack([padded_sequences1, padded_sequences2])\n"
   ]
  },
  {
   "cell_type": "code",
   "execution_count": null,
   "metadata": {
    "execution": {
     "iopub.execute_input": "2023-11-27T10:29:20.640386Z",
     "iopub.status.busy": "2023-11-27T10:29:20.640078Z",
     "iopub.status.idle": "2023-11-27T10:29:20.646103Z",
     "shell.execute_reply": "2023-11-27T10:29:20.645307Z",
     "shell.execute_reply.started": "2023-11-27T10:29:20.640360Z"
    }
   },
   "outputs": [],
   "source": [
    "X.shape"
   ]
  },
  {
   "cell_type": "code",
   "execution_count": null,
   "metadata": {
    "execution": {
     "iopub.execute_input": "2023-11-27T10:29:20.647601Z",
     "iopub.status.busy": "2023-11-27T10:29:20.647302Z",
     "iopub.status.idle": "2023-11-27T10:29:20.656305Z",
     "shell.execute_reply": "2023-11-27T10:29:20.655540Z",
     "shell.execute_reply.started": "2023-11-27T10:29:20.647576Z"
    }
   },
   "outputs": [],
   "source": [
    "y = df['is_duplicate'].values\n"
   ]
  },
  {
   "cell_type": "code",
   "execution_count": null,
   "metadata": {
    "execution": {
     "iopub.execute_input": "2023-11-27T10:29:21.867930Z",
     "iopub.status.busy": "2023-11-27T10:29:21.867545Z",
     "iopub.status.idle": "2023-11-27T10:29:21.873958Z",
     "shell.execute_reply": "2023-11-27T10:29:21.873063Z",
     "shell.execute_reply.started": "2023-11-27T10:29:21.867898Z"
    }
   },
   "outputs": [],
   "source": [
    "y.shape"
   ]
  },
  {
   "cell_type": "code",
   "execution_count": null,
   "metadata": {
    "execution": {
     "iopub.execute_input": "2023-11-27T10:29:22.415424Z",
     "iopub.status.busy": "2023-11-27T10:29:22.414807Z",
     "iopub.status.idle": "2023-11-27T10:29:22.541182Z",
     "shell.execute_reply": "2023-11-27T10:29:22.540393Z",
     "shell.execute_reply.started": "2023-11-27T10:29:22.415390Z"
    }
   },
   "outputs": [],
   "source": [
    "X_train, X_test, y_train, y_test = train_test_split(X, y, test_size=0.2, random_state=2)\n"
   ]
  },
  {
   "cell_type": "code",
   "execution_count": null,
   "metadata": {
    "execution": {
     "iopub.execute_input": "2023-11-27T10:29:25.802793Z",
     "iopub.status.busy": "2023-11-27T10:29:25.802432Z",
     "iopub.status.idle": "2023-11-27T10:29:25.809316Z",
     "shell.execute_reply": "2023-11-27T10:29:25.808394Z",
     "shell.execute_reply.started": "2023-11-27T10:29:25.802762Z"
    }
   },
   "outputs": [],
   "source": [
    "X_train"
   ]
  },
  {
   "cell_type": "code",
   "execution_count": null,
   "metadata": {
    "execution": {
     "iopub.execute_input": "2023-11-27T10:29:31.721146Z",
     "iopub.status.busy": "2023-11-27T10:29:31.720401Z",
     "iopub.status.idle": "2023-11-27T10:29:31.984890Z",
     "shell.execute_reply": "2023-11-27T10:29:31.983913Z",
     "shell.execute_reply.started": "2023-11-27T10:29:31.721115Z"
    }
   },
   "outputs": [],
   "source": [
    "embedding_dim = 50 \n",
    "lstm_units = 100 \n",
    "\n",
    "model = Sequential()\n",
    "model.add(Embedding(input_dim=vocab_size, output_dim=embedding_dim, input_length=max_sequence_length * 2))\n",
    "model.add(LSTM(100))\n",
    "# model.add(LSTM(units=lstm_units))\n",
    "model.add(Dense(units=1, activation='sigmoid'))"
   ]
  },
  {
   "cell_type": "code",
   "execution_count": null,
   "metadata": {
    "execution": {
     "iopub.execute_input": "2023-11-27T10:29:33.786261Z",
     "iopub.status.busy": "2023-11-27T10:29:33.785907Z",
     "iopub.status.idle": "2023-11-27T10:29:33.797820Z",
     "shell.execute_reply": "2023-11-27T10:29:33.797007Z",
     "shell.execute_reply.started": "2023-11-27T10:29:33.786230Z"
    }
   },
   "outputs": [],
   "source": [
    "model.compile(loss='binary_crossentropy',optimizer='adam',metrics=['accuracy'])"
   ]
  },
  {
   "cell_type": "code",
   "execution_count": null,
   "metadata": {
    "execution": {
     "iopub.execute_input": "2023-11-27T10:29:36.114810Z",
     "iopub.status.busy": "2023-11-27T10:29:36.114000Z",
     "iopub.status.idle": "2023-11-27T10:29:36.132704Z",
     "shell.execute_reply": "2023-11-27T10:29:36.131850Z",
     "shell.execute_reply.started": "2023-11-27T10:29:36.114769Z"
    }
   },
   "outputs": [],
   "source": [
    "print(model.summary())"
   ]
  },
  {
   "cell_type": "code",
   "execution_count": null,
   "metadata": {
    "execution": {
     "iopub.execute_input": "2023-11-27T10:29:41.956663Z",
     "iopub.status.busy": "2023-11-27T10:29:41.956280Z",
     "iopub.status.idle": "2023-11-27T10:45:56.156451Z",
     "shell.execute_reply": "2023-11-27T10:45:56.155166Z",
     "shell.execute_reply.started": "2023-11-27T10:29:41.956632Z"
    }
   },
   "outputs": [],
   "source": [
    "model.fit(X_train,y_train,validation_data=(X_test,y_test),epochs=20,batch_size=64)"
   ]
  },
  {
   "cell_type": "code",
   "execution_count": null,
   "metadata": {},
   "outputs": [],
   "source": []
  },
  {
   "cell_type": "code",
   "execution_count": null,
   "metadata": {},
   "outputs": [],
   "source": []
  },
  {
   "cell_type": "code",
   "execution_count": null,
   "metadata": {},
   "outputs": [],
   "source": []
  },
  {
   "cell_type": "code",
   "execution_count": 23,
   "metadata": {
    "execution": {
     "iopub.execute_input": "2023-11-29T12:51:21.958248Z",
     "iopub.status.busy": "2023-11-29T12:51:21.957278Z",
     "iopub.status.idle": "2023-11-29T12:51:21.963637Z",
     "shell.execute_reply": "2023-11-29T12:51:21.962725Z",
     "shell.execute_reply.started": "2023-11-29T12:51:21.958210Z"
    }
   },
   "outputs": [],
   "source": [
    "import pandas as pd\n",
    "import numpy as np\n",
    "from sklearn.model_selection import train_test_split\n",
    "from sklearn.preprocessing import StandardScaler\n",
    "from sklearn.metrics import accuracy_score\n",
    "from tensorflow.keras.models import Sequential\n",
    "from tensorflow.keras.layers import Embedding, LSTM, Dense\n",
    "from tensorflow.keras.preprocessing.text import Tokenizer\n",
    "from tensorflow.keras.preprocessing.sequence import pad_sequences\n",
    "from tensorflow.keras.layers import SpatialDropout1D\n"
   ]
  },
  {
   "cell_type": "code",
   "execution_count": null,
   "metadata": {},
   "outputs": [],
   "source": []
  },
  {
   "cell_type": "code",
   "execution_count": 24,
   "metadata": {
    "execution": {
     "iopub.execute_input": "2023-11-29T12:51:23.265202Z",
     "iopub.status.busy": "2023-11-29T12:51:23.264808Z",
     "iopub.status.idle": "2023-11-29T12:51:24.781002Z",
     "shell.execute_reply": "2023-11-29T12:51:24.780025Z",
     "shell.execute_reply.started": "2023-11-29T12:51:23.265162Z"
    }
   },
   "outputs": [
    {
     "data": {
      "text/html": [
       "<div>\n",
       "<style scoped>\n",
       "    .dataframe tbody tr th:only-of-type {\n",
       "        vertical-align: middle;\n",
       "    }\n",
       "\n",
       "    .dataframe tbody tr th {\n",
       "        vertical-align: top;\n",
       "    }\n",
       "\n",
       "    .dataframe thead th {\n",
       "        text-align: right;\n",
       "    }\n",
       "</style>\n",
       "<table border=\"1\" class=\"dataframe\">\n",
       "  <thead>\n",
       "    <tr style=\"text-align: right;\">\n",
       "      <th></th>\n",
       "      <th>id</th>\n",
       "      <th>qid1</th>\n",
       "      <th>qid2</th>\n",
       "      <th>question1</th>\n",
       "      <th>question2</th>\n",
       "      <th>is_duplicate</th>\n",
       "    </tr>\n",
       "  </thead>\n",
       "  <tbody>\n",
       "    <tr>\n",
       "      <th>0</th>\n",
       "      <td>0</td>\n",
       "      <td>1</td>\n",
       "      <td>2</td>\n",
       "      <td>What is the step by step guide to invest in sh...</td>\n",
       "      <td>What is the step by step guide to invest in sh...</td>\n",
       "      <td>0</td>\n",
       "    </tr>\n",
       "    <tr>\n",
       "      <th>1</th>\n",
       "      <td>1</td>\n",
       "      <td>3</td>\n",
       "      <td>4</td>\n",
       "      <td>What is the story of Kohinoor (Koh-i-Noor) Dia...</td>\n",
       "      <td>What would happen if the Indian government sto...</td>\n",
       "      <td>0</td>\n",
       "    </tr>\n",
       "    <tr>\n",
       "      <th>2</th>\n",
       "      <td>2</td>\n",
       "      <td>5</td>\n",
       "      <td>6</td>\n",
       "      <td>How can I increase the speed of my internet co...</td>\n",
       "      <td>How can Internet speed be increased by hacking...</td>\n",
       "      <td>0</td>\n",
       "    </tr>\n",
       "    <tr>\n",
       "      <th>3</th>\n",
       "      <td>3</td>\n",
       "      <td>7</td>\n",
       "      <td>8</td>\n",
       "      <td>Why am I mentally very lonely? How can I solve...</td>\n",
       "      <td>Find the remainder when [math]23^{24}[/math] i...</td>\n",
       "      <td>0</td>\n",
       "    </tr>\n",
       "    <tr>\n",
       "      <th>4</th>\n",
       "      <td>4</td>\n",
       "      <td>9</td>\n",
       "      <td>10</td>\n",
       "      <td>Which one dissolve in water quikly sugar, salt...</td>\n",
       "      <td>Which fish would survive in salt water?</td>\n",
       "      <td>0</td>\n",
       "    </tr>\n",
       "    <tr>\n",
       "      <th>...</th>\n",
       "      <td>...</td>\n",
       "      <td>...</td>\n",
       "      <td>...</td>\n",
       "      <td>...</td>\n",
       "      <td>...</td>\n",
       "      <td>...</td>\n",
       "    </tr>\n",
       "    <tr>\n",
       "      <th>404285</th>\n",
       "      <td>404285</td>\n",
       "      <td>433578</td>\n",
       "      <td>379845</td>\n",
       "      <td>How many keywords are there in the Racket prog...</td>\n",
       "      <td>How many keywords are there in PERL Programmin...</td>\n",
       "      <td>0</td>\n",
       "    </tr>\n",
       "    <tr>\n",
       "      <th>404286</th>\n",
       "      <td>404286</td>\n",
       "      <td>18840</td>\n",
       "      <td>155606</td>\n",
       "      <td>Do you believe there is life after death?</td>\n",
       "      <td>Is it true that there is life after death?</td>\n",
       "      <td>1</td>\n",
       "    </tr>\n",
       "    <tr>\n",
       "      <th>404287</th>\n",
       "      <td>404287</td>\n",
       "      <td>537928</td>\n",
       "      <td>537929</td>\n",
       "      <td>What is one coin?</td>\n",
       "      <td>What's this coin?</td>\n",
       "      <td>0</td>\n",
       "    </tr>\n",
       "    <tr>\n",
       "      <th>404288</th>\n",
       "      <td>404288</td>\n",
       "      <td>537930</td>\n",
       "      <td>537931</td>\n",
       "      <td>What is the approx annual cost of living while...</td>\n",
       "      <td>I am having little hairfall problem but I want...</td>\n",
       "      <td>0</td>\n",
       "    </tr>\n",
       "    <tr>\n",
       "      <th>404289</th>\n",
       "      <td>404289</td>\n",
       "      <td>537932</td>\n",
       "      <td>537933</td>\n",
       "      <td>What is like to have sex with cousin?</td>\n",
       "      <td>What is it like to have sex with your cousin?</td>\n",
       "      <td>0</td>\n",
       "    </tr>\n",
       "  </tbody>\n",
       "</table>\n",
       "<p>404290 rows × 6 columns</p>\n",
       "</div>"
      ],
      "text/plain": [
       "            id    qid1    qid2  \\\n",
       "0            0       1       2   \n",
       "1            1       3       4   \n",
       "2            2       5       6   \n",
       "3            3       7       8   \n",
       "4            4       9      10   \n",
       "...        ...     ...     ...   \n",
       "404285  404285  433578  379845   \n",
       "404286  404286   18840  155606   \n",
       "404287  404287  537928  537929   \n",
       "404288  404288  537930  537931   \n",
       "404289  404289  537932  537933   \n",
       "\n",
       "                                                question1  \\\n",
       "0       What is the step by step guide to invest in sh...   \n",
       "1       What is the story of Kohinoor (Koh-i-Noor) Dia...   \n",
       "2       How can I increase the speed of my internet co...   \n",
       "3       Why am I mentally very lonely? How can I solve...   \n",
       "4       Which one dissolve in water quikly sugar, salt...   \n",
       "...                                                   ...   \n",
       "404285  How many keywords are there in the Racket prog...   \n",
       "404286          Do you believe there is life after death?   \n",
       "404287                                  What is one coin?   \n",
       "404288  What is the approx annual cost of living while...   \n",
       "404289              What is like to have sex with cousin?   \n",
       "\n",
       "                                                question2  is_duplicate  \n",
       "0       What is the step by step guide to invest in sh...             0  \n",
       "1       What would happen if the Indian government sto...             0  \n",
       "2       How can Internet speed be increased by hacking...             0  \n",
       "3       Find the remainder when [math]23^{24}[/math] i...             0  \n",
       "4                 Which fish would survive in salt water?             0  \n",
       "...                                                   ...           ...  \n",
       "404285  How many keywords are there in PERL Programmin...             0  \n",
       "404286         Is it true that there is life after death?             1  \n",
       "404287                                  What's this coin?             0  \n",
       "404288  I am having little hairfall problem but I want...             0  \n",
       "404289      What is it like to have sex with your cousin?             0  \n",
       "\n",
       "[404290 rows x 6 columns]"
      ]
     },
     "execution_count": 24,
     "metadata": {},
     "output_type": "execute_result"
    }
   ],
   "source": [
    "df = pd.read_csv('/kaggle/input/quora-question-pairs/train.csv.zip')\n",
    "\n",
    "df"
   ]
  },
  {
   "cell_type": "code",
   "execution_count": 25,
   "metadata": {
    "execution": {
     "iopub.execute_input": "2023-11-29T12:51:24.783668Z",
     "iopub.status.busy": "2023-11-29T12:51:24.782810Z",
     "iopub.status.idle": "2023-11-29T12:51:24.787478Z",
     "shell.execute_reply": "2023-11-29T12:51:24.786478Z",
     "shell.execute_reply.started": "2023-11-29T12:51:24.783633Z"
    }
   },
   "outputs": [],
   "source": [
    "# df = pd.read_csv('final Quora Question Pairs.csv')\n"
   ]
  },
  {
   "cell_type": "code",
   "execution_count": 26,
   "metadata": {
    "execution": {
     "iopub.execute_input": "2023-11-29T12:51:25.080187Z",
     "iopub.status.busy": "2023-11-29T12:51:25.079804Z",
     "iopub.status.idle": "2023-11-29T12:51:25.199717Z",
     "shell.execute_reply": "2023-11-29T12:51:25.198934Z",
     "shell.execute_reply.started": "2023-11-29T12:51:25.080148Z"
    }
   },
   "outputs": [],
   "source": [
    "df.dropna(inplace=True)\n",
    "df.reset_index(drop=True, inplace=True)"
   ]
  },
  {
   "cell_type": "code",
   "execution_count": 4,
   "metadata": {
    "execution": {
     "iopub.execute_input": "2023-11-29T11:55:13.233146Z",
     "iopub.status.busy": "2023-11-29T11:55:13.232765Z",
     "iopub.status.idle": "2023-11-29T11:55:13.247704Z",
     "shell.execute_reply": "2023-11-29T11:55:13.246774Z",
     "shell.execute_reply.started": "2023-11-29T11:55:13.233115Z"
    }
   },
   "outputs": [
    {
     "data": {
      "text/html": [
       "<div>\n",
       "<style scoped>\n",
       "    .dataframe tbody tr th:only-of-type {\n",
       "        vertical-align: middle;\n",
       "    }\n",
       "\n",
       "    .dataframe tbody tr th {\n",
       "        vertical-align: top;\n",
       "    }\n",
       "\n",
       "    .dataframe thead th {\n",
       "        text-align: right;\n",
       "    }\n",
       "</style>\n",
       "<table border=\"1\" class=\"dataframe\">\n",
       "  <thead>\n",
       "    <tr style=\"text-align: right;\">\n",
       "      <th></th>\n",
       "      <th>id</th>\n",
       "      <th>qid1</th>\n",
       "      <th>qid2</th>\n",
       "      <th>question1</th>\n",
       "      <th>question2</th>\n",
       "      <th>is_duplicate</th>\n",
       "    </tr>\n",
       "  </thead>\n",
       "  <tbody>\n",
       "    <tr>\n",
       "      <th>0</th>\n",
       "      <td>0</td>\n",
       "      <td>1</td>\n",
       "      <td>2</td>\n",
       "      <td>What is the step by step guide to invest in sh...</td>\n",
       "      <td>What is the step by step guide to invest in sh...</td>\n",
       "      <td>0</td>\n",
       "    </tr>\n",
       "    <tr>\n",
       "      <th>1</th>\n",
       "      <td>1</td>\n",
       "      <td>3</td>\n",
       "      <td>4</td>\n",
       "      <td>What is the story of Kohinoor (Koh-i-Noor) Dia...</td>\n",
       "      <td>What would happen if the Indian government sto...</td>\n",
       "      <td>0</td>\n",
       "    </tr>\n",
       "    <tr>\n",
       "      <th>2</th>\n",
       "      <td>2</td>\n",
       "      <td>5</td>\n",
       "      <td>6</td>\n",
       "      <td>How can I increase the speed of my internet co...</td>\n",
       "      <td>How can Internet speed be increased by hacking...</td>\n",
       "      <td>0</td>\n",
       "    </tr>\n",
       "    <tr>\n",
       "      <th>3</th>\n",
       "      <td>3</td>\n",
       "      <td>7</td>\n",
       "      <td>8</td>\n",
       "      <td>Why am I mentally very lonely? How can I solve...</td>\n",
       "      <td>Find the remainder when [math]23^{24}[/math] i...</td>\n",
       "      <td>0</td>\n",
       "    </tr>\n",
       "    <tr>\n",
       "      <th>4</th>\n",
       "      <td>4</td>\n",
       "      <td>9</td>\n",
       "      <td>10</td>\n",
       "      <td>Which one dissolve in water quikly sugar, salt...</td>\n",
       "      <td>Which fish would survive in salt water?</td>\n",
       "      <td>0</td>\n",
       "    </tr>\n",
       "    <tr>\n",
       "      <th>...</th>\n",
       "      <td>...</td>\n",
       "      <td>...</td>\n",
       "      <td>...</td>\n",
       "      <td>...</td>\n",
       "      <td>...</td>\n",
       "      <td>...</td>\n",
       "    </tr>\n",
       "    <tr>\n",
       "      <th>404282</th>\n",
       "      <td>404285</td>\n",
       "      <td>433578</td>\n",
       "      <td>379845</td>\n",
       "      <td>How many keywords are there in the Racket prog...</td>\n",
       "      <td>How many keywords are there in PERL Programmin...</td>\n",
       "      <td>0</td>\n",
       "    </tr>\n",
       "    <tr>\n",
       "      <th>404283</th>\n",
       "      <td>404286</td>\n",
       "      <td>18840</td>\n",
       "      <td>155606</td>\n",
       "      <td>Do you believe there is life after death?</td>\n",
       "      <td>Is it true that there is life after death?</td>\n",
       "      <td>1</td>\n",
       "    </tr>\n",
       "    <tr>\n",
       "      <th>404284</th>\n",
       "      <td>404287</td>\n",
       "      <td>537928</td>\n",
       "      <td>537929</td>\n",
       "      <td>What is one coin?</td>\n",
       "      <td>What's this coin?</td>\n",
       "      <td>0</td>\n",
       "    </tr>\n",
       "    <tr>\n",
       "      <th>404285</th>\n",
       "      <td>404288</td>\n",
       "      <td>537930</td>\n",
       "      <td>537931</td>\n",
       "      <td>What is the approx annual cost of living while...</td>\n",
       "      <td>I am having little hairfall problem but I want...</td>\n",
       "      <td>0</td>\n",
       "    </tr>\n",
       "    <tr>\n",
       "      <th>404286</th>\n",
       "      <td>404289</td>\n",
       "      <td>537932</td>\n",
       "      <td>537933</td>\n",
       "      <td>What is like to have sex with cousin?</td>\n",
       "      <td>What is it like to have sex with your cousin?</td>\n",
       "      <td>0</td>\n",
       "    </tr>\n",
       "  </tbody>\n",
       "</table>\n",
       "<p>404287 rows × 6 columns</p>\n",
       "</div>"
      ],
      "text/plain": [
       "            id    qid1    qid2  \\\n",
       "0            0       1       2   \n",
       "1            1       3       4   \n",
       "2            2       5       6   \n",
       "3            3       7       8   \n",
       "4            4       9      10   \n",
       "...        ...     ...     ...   \n",
       "404282  404285  433578  379845   \n",
       "404283  404286   18840  155606   \n",
       "404284  404287  537928  537929   \n",
       "404285  404288  537930  537931   \n",
       "404286  404289  537932  537933   \n",
       "\n",
       "                                                question1  \\\n",
       "0       What is the step by step guide to invest in sh...   \n",
       "1       What is the story of Kohinoor (Koh-i-Noor) Dia...   \n",
       "2       How can I increase the speed of my internet co...   \n",
       "3       Why am I mentally very lonely? How can I solve...   \n",
       "4       Which one dissolve in water quikly sugar, salt...   \n",
       "...                                                   ...   \n",
       "404282  How many keywords are there in the Racket prog...   \n",
       "404283          Do you believe there is life after death?   \n",
       "404284                                  What is one coin?   \n",
       "404285  What is the approx annual cost of living while...   \n",
       "404286              What is like to have sex with cousin?   \n",
       "\n",
       "                                                question2  is_duplicate  \n",
       "0       What is the step by step guide to invest in sh...             0  \n",
       "1       What would happen if the Indian government sto...             0  \n",
       "2       How can Internet speed be increased by hacking...             0  \n",
       "3       Find the remainder when [math]23^{24}[/math] i...             0  \n",
       "4                 Which fish would survive in salt water?             0  \n",
       "...                                                   ...           ...  \n",
       "404282  How many keywords are there in PERL Programmin...             0  \n",
       "404283         Is it true that there is life after death?             1  \n",
       "404284                                  What's this coin?             0  \n",
       "404285  I am having little hairfall problem but I want...             0  \n",
       "404286      What is it like to have sex with your cousin?             0  \n",
       "\n",
       "[404287 rows x 6 columns]"
      ]
     },
     "execution_count": 4,
     "metadata": {},
     "output_type": "execute_result"
    }
   ],
   "source": [
    "df"
   ]
  },
  {
   "cell_type": "code",
   "execution_count": 27,
   "metadata": {
    "execution": {
     "iopub.execute_input": "2023-11-29T12:51:28.793405Z",
     "iopub.status.busy": "2023-11-29T12:51:28.793010Z",
     "iopub.status.idle": "2023-11-29T12:51:40.039786Z",
     "shell.execute_reply": "2023-11-29T12:51:40.038842Z",
     "shell.execute_reply.started": "2023-11-29T12:51:28.793376Z"
    }
   },
   "outputs": [],
   "source": [
    "tokenizer = Tokenizer()\n",
    "tokenizer.fit_on_texts(df['question1'] + df['question2'])\n",
    "vocab_size = len(tokenizer.word_index) + 1\n"
   ]
  },
  {
   "cell_type": "code",
   "execution_count": 7,
   "metadata": {
    "execution": {
     "iopub.execute_input": "2023-11-29T11:57:04.247782Z",
     "iopub.status.busy": "2023-11-29T11:57:04.247384Z",
     "iopub.status.idle": "2023-11-29T11:57:04.344666Z",
     "shell.execute_reply": "2023-11-29T11:57:04.343682Z",
     "shell.execute_reply.started": "2023-11-29T11:57:04.247753Z"
    }
   },
   "outputs": [],
   "source": [
    "import pickle\n",
    "# saving\n",
    "with open('Tokenizer.pickle', 'wb') as handle:\n",
    "    pickle.dump(tokenizer, handle, protocol=pickle.HIGHEST_PROTOCOL)"
   ]
  },
  {
   "cell_type": "code",
   "execution_count": 28,
   "metadata": {
    "execution": {
     "iopub.execute_input": "2023-11-29T12:51:46.716758Z",
     "iopub.status.busy": "2023-11-29T12:51:46.715920Z",
     "iopub.status.idle": "2023-11-29T12:51:46.722021Z",
     "shell.execute_reply": "2023-11-29T12:51:46.721185Z",
     "shell.execute_reply.started": "2023-11-29T12:51:46.716724Z"
    }
   },
   "outputs": [
    {
     "data": {
      "text/plain": [
       "96493"
      ]
     },
     "execution_count": 28,
     "metadata": {},
     "output_type": "execute_result"
    }
   ],
   "source": [
    "vocab_size"
   ]
  },
  {
   "cell_type": "code",
   "execution_count": 29,
   "metadata": {
    "execution": {
     "iopub.execute_input": "2023-11-29T12:51:47.151743Z",
     "iopub.status.busy": "2023-11-29T12:51:47.150906Z",
     "iopub.status.idle": "2023-11-29T12:52:00.681149Z",
     "shell.execute_reply": "2023-11-29T12:52:00.680327Z",
     "shell.execute_reply.started": "2023-11-29T12:51:47.151714Z"
    }
   },
   "outputs": [],
   "source": [
    "sequences1 = tokenizer.texts_to_sequences(df['question1'])\n",
    "sequences2 = tokenizer.texts_to_sequences(df['question2'])"
   ]
  },
  {
   "cell_type": "code",
   "execution_count": 30,
   "metadata": {
    "execution": {
     "iopub.execute_input": "2023-11-29T12:52:00.683683Z",
     "iopub.status.busy": "2023-11-29T12:52:00.682925Z",
     "iopub.status.idle": "2023-11-29T12:52:04.036389Z",
     "shell.execute_reply": "2023-11-29T12:52:04.035612Z",
     "shell.execute_reply.started": "2023-11-29T12:52:00.683647Z"
    }
   },
   "outputs": [],
   "source": [
    "max_sequence_length = 50\n",
    "padded_sequences1 = pad_sequences(sequences1, maxlen=max_sequence_length)\n",
    "padded_sequences2 = pad_sequences(sequences2, maxlen=max_sequence_length)"
   ]
  },
  {
   "cell_type": "code",
   "execution_count": 31,
   "metadata": {
    "execution": {
     "iopub.execute_input": "2023-11-29T12:52:04.037831Z",
     "iopub.status.busy": "2023-11-29T12:52:04.037487Z",
     "iopub.status.idle": "2023-11-29T12:52:04.105783Z",
     "shell.execute_reply": "2023-11-29T12:52:04.105006Z",
     "shell.execute_reply.started": "2023-11-29T12:52:04.037799Z"
    }
   },
   "outputs": [],
   "source": [
    "X = np.hstack([padded_sequences1, padded_sequences2])\n",
    "y = df['is_duplicate'].values"
   ]
  },
  {
   "cell_type": "code",
   "execution_count": 32,
   "metadata": {
    "execution": {
     "iopub.execute_input": "2023-11-29T12:52:04.108369Z",
     "iopub.status.busy": "2023-11-29T12:52:04.108106Z",
     "iopub.status.idle": "2023-11-29T12:52:04.112129Z",
     "shell.execute_reply": "2023-11-29T12:52:04.111284Z",
     "shell.execute_reply.started": "2023-11-29T12:52:04.108345Z"
    }
   },
   "outputs": [],
   "source": [
    "# pip install --upgrade tensorflow\n"
   ]
  },
  {
   "cell_type": "code",
   "execution_count": 1,
   "metadata": {
    "execution": {
     "iopub.execute_input": "2023-11-29T10:39:57.481880Z",
     "iopub.status.busy": "2023-11-29T10:39:57.481454Z",
     "iopub.status.idle": "2023-11-29T10:39:57.486685Z",
     "shell.execute_reply": "2023-11-29T10:39:57.485496Z",
     "shell.execute_reply.started": "2023-11-29T10:39:57.481850Z"
    }
   },
   "outputs": [],
   "source": [
    "# import tensorflow as tf\n",
    "# physical_devices = tf.config.list_physical_devices('GPU')\n",
    "# for device in physical_devices:\n",
    "#     tf.config.experimental.set_memory_growth(device, True)\n"
   ]
  },
  {
   "cell_type": "code",
   "execution_count": 2,
   "metadata": {
    "execution": {
     "iopub.execute_input": "2023-11-29T10:40:00.609891Z",
     "iopub.status.busy": "2023-11-29T10:40:00.609544Z",
     "iopub.status.idle": "2023-11-29T10:40:00.613997Z",
     "shell.execute_reply": "2023-11-29T10:40:00.612868Z",
     "shell.execute_reply.started": "2023-11-29T10:40:00.609866Z"
    }
   },
   "outputs": [],
   "source": [
    "# from tensorflow.python.client import device_lib\n",
    "# print(device_lib.list_local_devices())\n"
   ]
  },
  {
   "cell_type": "code",
   "execution_count": 33,
   "metadata": {
    "execution": {
     "iopub.execute_input": "2023-11-29T12:52:04.113822Z",
     "iopub.status.busy": "2023-11-29T12:52:04.113443Z",
     "iopub.status.idle": "2023-11-29T12:52:04.122815Z",
     "shell.execute_reply": "2023-11-29T12:52:04.121955Z",
     "shell.execute_reply.started": "2023-11-29T12:52:04.113790Z"
    }
   },
   "outputs": [],
   "source": [
    "from tensorflow.keras.layers import Bidirectional\n",
    "from tensorflow.keras.layers import GlobalMaxPooling1D\n",
    "from tensorflow.keras.callbacks import EarlyStopping\n"
   ]
  },
  {
   "cell_type": "code",
   "execution_count": 34,
   "metadata": {
    "execution": {
     "iopub.execute_input": "2023-11-29T12:52:04.124284Z",
     "iopub.status.busy": "2023-11-29T12:52:04.123897Z",
     "iopub.status.idle": "2023-11-29T12:52:07.586739Z",
     "shell.execute_reply": "2023-11-29T12:52:07.585579Z",
     "shell.execute_reply.started": "2023-11-29T12:52:04.124259Z"
    }
   },
   "outputs": [],
   "source": [
    "embedding_dim = 50\n",
    "lstm_units = 100\n",
    "\n",
    "model = Sequential()\n",
    "model.add(Embedding(input_dim=vocab_size, output_dim=embedding_dim, input_length=max_sequence_length * 2))\n",
    "model.add(SpatialDropout1D(0.2))  # Spatial Dropout for sequences\n",
    "model.add(Bidirectional(LSTM(100, return_sequences=True)))\n",
    "model.add(GlobalMaxPooling1D())\n",
    "model.add(Dropout(0.2))  # Regular Dropout layer\n",
    "model.add(Dense(units=1, activation='sigmoid'))\n"
   ]
  },
  {
   "cell_type": "code",
   "execution_count": 35,
   "metadata": {
    "execution": {
     "iopub.execute_input": "2023-11-29T12:52:07.588583Z",
     "iopub.status.busy": "2023-11-29T12:52:07.588196Z",
     "iopub.status.idle": "2023-11-29T12:52:07.609678Z",
     "shell.execute_reply": "2023-11-29T12:52:07.608811Z",
     "shell.execute_reply.started": "2023-11-29T12:52:07.588548Z"
    }
   },
   "outputs": [],
   "source": [
    "model.compile(loss='binary_crossentropy', optimizer='adam', metrics=['accuracy'])\n"
   ]
  },
  {
   "cell_type": "code",
   "execution_count": 36,
   "metadata": {
    "execution": {
     "iopub.execute_input": "2023-11-29T12:52:07.611224Z",
     "iopub.status.busy": "2023-11-29T12:52:07.610845Z",
     "iopub.status.idle": "2023-11-29T12:52:07.641875Z",
     "shell.execute_reply": "2023-11-29T12:52:07.640802Z",
     "shell.execute_reply.started": "2023-11-29T12:52:07.611191Z"
    }
   },
   "outputs": [
    {
     "name": "stdout",
     "output_type": "stream",
     "text": [
      "Model: \"sequential\"\n",
      "_________________________________________________________________\n",
      " Layer (type)                Output Shape              Param #   \n",
      "=================================================================\n",
      " embedding (Embedding)       (None, 100, 50)           4824650   \n",
      "                                                                 \n",
      " spatial_dropout1d (Spatial  (None, 100, 50)           0         \n",
      " Dropout1D)                                                      \n",
      "                                                                 \n",
      " bidirectional (Bidirection  (None, 100, 200)          120800    \n",
      " al)                                                             \n",
      "                                                                 \n",
      " global_max_pooling1d (Glob  (None, 200)               0         \n",
      " alMaxPooling1D)                                                 \n",
      "                                                                 \n",
      " dropout (Dropout)           (None, 200)               0         \n",
      "                                                                 \n",
      " dense (Dense)               (None, 1)                 201       \n",
      "                                                                 \n",
      "=================================================================\n",
      "Total params: 4945651 (18.87 MB)\n",
      "Trainable params: 4945651 (18.87 MB)\n",
      "Non-trainable params: 0 (0.00 Byte)\n",
      "_________________________________________________________________\n"
     ]
    }
   ],
   "source": [
    "model.summary()"
   ]
  },
  {
   "cell_type": "code",
   "execution_count": null,
   "metadata": {
    "execution": {
     "iopub.execute_input": "2023-11-28T14:43:11.873676Z",
     "iopub.status.busy": "2023-11-28T14:43:11.873417Z",
     "iopub.status.idle": "2023-11-28T14:43:11.878923Z",
     "shell.execute_reply": "2023-11-28T14:43:11.877766Z",
     "shell.execute_reply.started": "2023-11-28T14:43:11.873652Z"
    }
   },
   "outputs": [],
   "source": [
    "early_stopping = EarlyStopping(monitor='val_loss', patience=3, restore_best_weights=True)\n"
   ]
  },
  {
   "cell_type": "code",
   "execution_count": null,
   "metadata": {
    "execution": {
     "iopub.execute_input": "2023-11-28T14:43:11.893249Z",
     "iopub.status.busy": "2023-11-28T14:43:11.892947Z",
     "iopub.status.idle": "2023-11-28T14:51:28.116084Z",
     "shell.execute_reply": "2023-11-28T14:51:28.115093Z",
     "shell.execute_reply.started": "2023-11-28T14:43:11.893224Z"
    }
   },
   "outputs": [],
   "source": [
    "model.fit(X_train, y_train, validation_data=(X_test, y_test), epochs=50, batch_size=64, callbacks=[early_stopping])\n"
   ]
  },
  {
   "cell_type": "code",
   "execution_count": null,
   "metadata": {
    "execution": {
     "iopub.execute_input": "2023-11-28T14:58:54.417782Z",
     "iopub.status.busy": "2023-11-28T14:58:54.416838Z",
     "iopub.status.idle": "2023-11-28T14:58:54.577948Z",
     "shell.execute_reply": "2023-11-28T14:58:54.576955Z",
     "shell.execute_reply.started": "2023-11-28T14:58:54.417750Z"
    }
   },
   "outputs": [],
   "source": [
    "model.save('Quora_question_pairs.h5')"
   ]
  },
  {
   "cell_type": "code",
   "execution_count": null,
   "metadata": {
    "execution": {
     "iopub.execute_input": "2023-11-28T14:51:28.117787Z",
     "iopub.status.busy": "2023-11-28T14:51:28.117425Z",
     "iopub.status.idle": "2023-11-28T14:51:28.965511Z",
     "shell.execute_reply": "2023-11-28T14:51:28.964525Z",
     "shell.execute_reply.started": "2023-11-28T14:51:28.117756Z"
    }
   },
   "outputs": [],
   "source": [
    "# Assuming you have a new set of questions for which you want to predict duplicates\n",
    "new_question1 = [\"who is the prime minister of Bangladesh?\"]\n",
    "new_question2 = [\"who is the prime minister of Pakistan?\"]\n",
    "\n",
    "# Tokenize and pad the new sequences\n",
    "new_sequences1 = tokenizer.texts_to_sequences(new_question1)\n",
    "new_sequences2 = tokenizer.texts_to_sequences(new_question2)\n",
    "\n",
    "new_padded_sequences1 = pad_sequences(new_sequences1, maxlen=max_sequence_length)\n",
    "new_padded_sequences2 = pad_sequences(new_sequences2, maxlen=max_sequence_length)\n",
    "\n",
    "# Concatenate the sequences\n",
    "new_X = np.hstack([new_padded_sequences1, new_padded_sequences2])\n",
    "\n",
    "# Make predictions\n",
    "predictions = model.predict(new_X)\n",
    "\n",
    "# The predictions will be probabilities, you may want to threshold them to get binary results\n",
    "threshold = 0.5\n",
    "binary_predictions = (predictions > threshold).astype(int)\n",
    "\n",
    "print(\"Predictions:\", binary_predictions.flatten())\n"
   ]
  },
  {
   "cell_type": "code",
   "execution_count": null,
   "metadata": {
    "execution": {
     "iopub.execute_input": "2023-11-28T15:22:59.727748Z",
     "iopub.status.busy": "2023-11-28T15:22:59.726809Z",
     "iopub.status.idle": "2023-11-28T15:23:13.392601Z",
     "shell.execute_reply": "2023-11-28T15:23:13.391341Z",
     "shell.execute_reply.started": "2023-11-28T15:22:59.727713Z"
    }
   },
   "outputs": [],
   "source": [
    "from sklearn.metrics import classification_report, confusion_matrix\n",
    "\n",
    "# Make predictions on the test set\n",
    "y_pred = (model.predict(X_test) > 0.5).astype(int)\n",
    "\n",
    "# Print classification report\n",
    "print(\"Classification Report:\")\n",
    "print(classification_report(y_test, y_pred))\n",
    "\n",
    "# Print confusion matrix\n",
    "print(\"Confusion Matrix:\")\n",
    "print(confusion_matrix(y_test, y_pred))\n"
   ]
  },
  {
   "cell_type": "code",
   "execution_count": null,
   "metadata": {},
   "outputs": [],
   "source": []
  },
  {
   "cell_type": "markdown",
   "metadata": {},
   "source": [
    "**Transformer**"
   ]
  },
  {
   "cell_type": "code",
   "execution_count": null,
   "metadata": {
    "execution": {
     "iopub.execute_input": "2023-11-27T11:11:31.445123Z",
     "iopub.status.busy": "2023-11-27T11:11:31.444412Z",
     "iopub.status.idle": "2023-11-27T11:11:32.917195Z",
     "shell.execute_reply": "2023-11-27T11:11:32.916390Z",
     "shell.execute_reply.started": "2023-11-27T11:11:31.445087Z"
    }
   },
   "outputs": [],
   "source": [
    "import pandas as pd\n",
    "import numpy as np\n",
    "from sklearn.model_selection import train_test_split\n",
    "from sklearn.preprocessing import StandardScaler\n",
    "from sklearn.metrics import accuracy_score\n",
    "from tensorflow.keras.models import Sequential\n",
    "from tensorflow.keras.layers import Embedding, Dense, MultiHeadAttention\n",
    "from tensorflow.keras.preprocessing.text import Tokenizer\n",
    "from tensorflow.keras.preprocessing.sequence import pad_sequences\n",
    "\n",
    "df = pd.read_csv('/kaggle/input/quora-question-pairs/train.csv.zip')\n"
   ]
  },
  {
   "cell_type": "code",
   "execution_count": null,
   "metadata": {
    "execution": {
     "iopub.execute_input": "2023-11-27T11:11:52.108134Z",
     "iopub.status.busy": "2023-11-27T11:11:52.107455Z",
     "iopub.status.idle": "2023-11-27T11:11:52.122870Z",
     "shell.execute_reply": "2023-11-27T11:11:52.121877Z",
     "shell.execute_reply.started": "2023-11-27T11:11:52.108103Z"
    }
   },
   "outputs": [],
   "source": [
    "df"
   ]
  },
  {
   "cell_type": "code",
   "execution_count": null,
   "metadata": {
    "execution": {
     "iopub.execute_input": "2023-11-27T11:10:24.783418Z",
     "iopub.status.busy": "2023-11-27T11:10:24.782577Z",
     "iopub.status.idle": "2023-11-27T11:10:41.474929Z",
     "shell.execute_reply": "2023-11-27T11:10:41.473693Z",
     "shell.execute_reply.started": "2023-11-27T11:10:24.783373Z"
    }
   },
   "outputs": [],
   "source": [
    "!pip install git+https://www.github.com/keras-team/keras-contrib.git\n"
   ]
  },
  {
   "cell_type": "code",
   "execution_count": null,
   "metadata": {
    "execution": {
     "iopub.execute_input": "2023-11-27T11:12:30.551137Z",
     "iopub.status.busy": "2023-11-27T11:12:30.550257Z",
     "iopub.status.idle": "2023-11-27T11:12:30.671066Z",
     "shell.execute_reply": "2023-11-27T11:12:30.670200Z",
     "shell.execute_reply.started": "2023-11-27T11:12:30.551101Z"
    }
   },
   "outputs": [],
   "source": [
    "df.dropna(inplace=True)\n",
    "df.reset_index(drop=True, inplace=True)"
   ]
  },
  {
   "cell_type": "code",
   "execution_count": null,
   "metadata": {
    "execution": {
     "iopub.execute_input": "2023-11-27T11:12:39.455497Z",
     "iopub.status.busy": "2023-11-27T11:12:39.455115Z",
     "iopub.status.idle": "2023-11-27T11:12:50.250681Z",
     "shell.execute_reply": "2023-11-27T11:12:50.249412Z",
     "shell.execute_reply.started": "2023-11-27T11:12:39.455465Z"
    }
   },
   "outputs": [],
   "source": [
    "tokenizer = Tokenizer()\n",
    "tokenizer.fit_on_texts(df['question1'] + df['question2'])\n",
    "vocab_size = len(tokenizer.word_index) + 1"
   ]
  },
  {
   "cell_type": "code",
   "execution_count": null,
   "metadata": {
    "execution": {
     "iopub.execute_input": "2023-11-27T11:12:50.252812Z",
     "iopub.status.busy": "2023-11-27T11:12:50.252449Z",
     "iopub.status.idle": "2023-11-27T11:13:04.458990Z",
     "shell.execute_reply": "2023-11-27T11:13:04.458133Z",
     "shell.execute_reply.started": "2023-11-27T11:12:50.252769Z"
    }
   },
   "outputs": [],
   "source": [
    "sequences1 = tokenizer.texts_to_sequences(df['question1'])\n",
    "sequences2 = tokenizer.texts_to_sequences(df['question2'])"
   ]
  },
  {
   "cell_type": "code",
   "execution_count": null,
   "metadata": {
    "execution": {
     "iopub.execute_input": "2023-11-27T11:13:04.461112Z",
     "iopub.status.busy": "2023-11-27T11:13:04.460825Z",
     "iopub.status.idle": "2023-11-27T11:13:07.962955Z",
     "shell.execute_reply": "2023-11-27T11:13:07.962091Z",
     "shell.execute_reply.started": "2023-11-27T11:13:04.461086Z"
    }
   },
   "outputs": [],
   "source": [
    "max_sequence_length = 50  \n",
    "padded_sequences1 = pad_sequences(sequences1, maxlen=max_sequence_length)\n",
    "padded_sequences2 = pad_sequences(sequences2, maxlen=max_sequence_length)"
   ]
  },
  {
   "cell_type": "code",
   "execution_count": null,
   "metadata": {
    "execution": {
     "iopub.execute_input": "2023-11-27T11:13:07.964754Z",
     "iopub.status.busy": "2023-11-27T11:13:07.964248Z",
     "iopub.status.idle": "2023-11-27T11:13:08.041883Z",
     "shell.execute_reply": "2023-11-27T11:13:08.041041Z",
     "shell.execute_reply.started": "2023-11-27T11:13:07.964718Z"
    }
   },
   "outputs": [],
   "source": [
    "X = np.hstack([padded_sequences1, padded_sequences2])\n",
    "y = df['is_duplicate'].values"
   ]
  },
  {
   "cell_type": "code",
   "execution_count": null,
   "metadata": {
    "execution": {
     "iopub.execute_input": "2023-11-27T11:13:08.043882Z",
     "iopub.status.busy": "2023-11-27T11:13:08.043562Z",
     "iopub.status.idle": "2023-11-27T11:13:08.136065Z",
     "shell.execute_reply": "2023-11-27T11:13:08.135093Z",
     "shell.execute_reply.started": "2023-11-27T11:13:08.043853Z"
    }
   },
   "outputs": [],
   "source": [
    "\n",
    "X_train, X_test, y_train, y_test = train_test_split(X, y, test_size=0.2, random_state=2)\n",
    "embedding_dim = 50 "
   ]
  },
  {
   "cell_type": "code",
   "execution_count": null,
   "metadata": {
    "execution": {
     "iopub.execute_input": "2023-11-27T11:13:51.171421Z",
     "iopub.status.busy": "2023-11-27T11:13:51.170810Z",
     "iopub.status.idle": "2023-11-27T11:13:51.618945Z",
     "shell.execute_reply": "2023-11-27T11:13:51.617652Z",
     "shell.execute_reply.started": "2023-11-27T11:13:51.171385Z"
    }
   },
   "outputs": [],
   "source": [
    "model = Sequential()\n",
    "model.add(Embedding(input_dim=vocab_size, output_dim=embedding_dim, input_length=max_sequence_length * 2))\n",
    "model.add(MultiHeadAttention(\n",
    "    head_size=embedding_dim,\n",
    "    num_heads=4,  # You can experiment with the number of heads\n",
    "    key_dim=embedding_dim,  # Specify key_dim\n",
    "    dropout=0.2,\n",
    "))\n",
    "model.add(Dense(units=1, activation='sigmoid'))"
   ]
  },
  {
   "cell_type": "code",
   "execution_count": null,
   "metadata": {
    "execution": {
     "iopub.execute_input": "2023-11-27T11:15:43.950034Z",
     "iopub.status.busy": "2023-11-27T11:15:43.949170Z",
     "iopub.status.idle": "2023-11-27T11:16:12.168322Z",
     "shell.execute_reply": "2023-11-27T11:16:12.167115Z",
     "shell.execute_reply.started": "2023-11-27T11:15:43.949997Z"
    }
   },
   "outputs": [],
   "source": [
    "import pandas as pd\n",
    "import numpy as np\n",
    "from sklearn.model_selection import train_test_split\n",
    "from tensorflow.keras.models import Sequential\n",
    "from tensorflow.keras.layers import Embedding, Dense, Dropout, MultiHeadAttention, LayerNormalization\n",
    "from tensorflow.keras.optimizers import Adam\n",
    "from tensorflow.keras.callbacks import EarlyStopping\n",
    "from tensorflow.keras.preprocessing.text import Tokenizer\n",
    "from tensorflow.keras.preprocessing.sequence import pad_sequences\n",
    "\n",
    "df\n",
    "\n",
    "tokenizer = Tokenizer()\n",
    "tokenizer.fit_on_texts(df['question1'] + df['question2'])\n",
    "vocab_size = len(tokenizer.word_index) + 1\n",
    "\n",
    "sequences1 = tokenizer.texts_to_sequences(df['question1'])\n",
    "sequences2 = tokenizer.texts_to_sequences(df['question2'])\n",
    "\n",
    "max_sequence_length = 50\n",
    "padded_sequences1 = pad_sequences(sequences1, maxlen=max_sequence_length)\n",
    "padded_sequences2 = pad_sequences(sequences2, maxlen=max_sequence_length)\n",
    "\n",
    "X = np.hstack([padded_sequences1, padded_sequences2])\n",
    "y = df['is_duplicate'].values\n",
    "\n",
    "X_train, X_test, y_train, y_test = train_test_split(X, y, test_size=0.2, random_state=2)\n",
    "embedding_dim = 50\n",
    "num_heads = 4\n",
    "\n",
    "model = Sequential()\n",
    "model.add(Embedding(input_dim=vocab_size, output_dim=embedding_dim, input_length=max_sequence_length * 2))\n",
    "model.add(MultiHeadAttention(num_heads=num_heads, key_dim=embedding_dim))\n",
    "model.add(Dropout(0.2))\n",
    "model.add(LayerNormalization(epsilon=1e-6))\n",
    "model.add(Dense(units=1, activation='sigmoid'))\n",
    "\n",
    "model.compile(loss='binary_crossentropy', optimizer=Adam(learning_rate=0.001), metrics=['accuracy'])\n",
    "\n",
    "# Early stopping to prevent overfitting\n",
    "early_stopping = EarlyStopping(monitor='val_loss', patience=3, restore_best_weights=True)\n",
    "\n",
    "model.fit(X_train, y_train, validation_data=(X_test, y_test), epochs=20, batch_size=64, callbacks=[early_stopping])\n",
    "\n"
   ]
  },
  {
   "cell_type": "code",
   "execution_count": null,
   "metadata": {
    "execution": {
     "iopub.execute_input": "2023-11-27T11:19:59.657320Z",
     "iopub.status.busy": "2023-11-27T11:19:59.656508Z",
     "iopub.status.idle": "2023-11-27T11:20:27.709140Z",
     "shell.execute_reply": "2023-11-27T11:20:27.707946Z",
     "shell.execute_reply.started": "2023-11-27T11:19:59.657284Z"
    }
   },
   "outputs": [],
   "source": [
    "import pandas as pd\n",
    "import numpy as np\n",
    "from sklearn.model_selection import train_test_split\n",
    "from tensorflow.keras.models import Sequential\n",
    "from tensorflow.keras.layers import Embedding, Dense, Dropout, MultiHeadAttention, LayerNormalization\n",
    "from tensorflow.keras.optimizers import Adam\n",
    "from tensorflow.keras.callbacks import EarlyStopping\n",
    "from tensorflow.keras.preprocessing.text import Tokenizer\n",
    "from tensorflow.keras.preprocessing.sequence import pad_sequences\n",
    "\n",
    "df\n",
    "tokenizer = Tokenizer()\n",
    "tokenizer.fit_on_texts(df['question1'] + df['question2'])\n",
    "vocab_size = len(tokenizer.word_index) + 1\n",
    "\n",
    "sequences1 = tokenizer.texts_to_sequences(df['question1'])\n",
    "sequences2 = tokenizer.texts_to_sequences(df['question2'])\n",
    "\n",
    "max_sequence_length = 50\n",
    "padded_sequences1 = pad_sequences(sequences1, maxlen=max_sequence_length)\n",
    "padded_sequences2 = pad_sequences(sequences2, maxlen=max_sequence_length)\n",
    "\n",
    "X = np.hstack([padded_sequences1, padded_sequences2])\n",
    "y = df['is_duplicate'].values\n",
    "\n",
    "X_train, X_test, y_train, y_test = train_test_split(X, y, test_size=0.2, random_state=2)\n",
    "embedding_dim = 50\n",
    "num_heads = 4\n",
    "\n",
    "model = Sequential()\n",
    "model.add(Embedding(input_dim=vocab_size, output_dim=embedding_dim, input_length=max_sequence_length * 2))\n",
    "model.add(MultiHeadAttention(num_heads=num_heads, key_dim=embedding_dim))\n",
    "model.add(Dropout(0.2))\n",
    "model.add(LayerNormalization(epsilon=1e-6))\n",
    "model.add(Dense(units=1, activation='sigmoid'))\n",
    "\n",
    "model.compile(loss='binary_crossentropy', optimizer=Adam(learning_rate=0.001), metrics=['accuracy'])\n",
    "\n",
    "# Early stopping to prevent overfitting\n",
    "early_stopping = EarlyStopping(monitor='val_loss', patience=3, restore_best_weights=True)\n",
    "\n",
    "model.fit(X_train, y_train, validation_data=(X_test, y_test), epochs=20, batch_size=64, callbacks=[early_stopping])\n"
   ]
  },
  {
   "cell_type": "code",
   "execution_count": null,
   "metadata": {},
   "outputs": [],
   "source": []
  },
  {
   "cell_type": "code",
   "execution_count": null,
   "metadata": {},
   "outputs": [],
   "source": []
  },
  {
   "cell_type": "code",
   "execution_count": null,
   "metadata": {
    "execution": {
     "iopub.execute_input": "2023-11-27T12:10:41.123596Z",
     "iopub.status.busy": "2023-11-27T12:10:41.123209Z",
     "iopub.status.idle": "2023-11-27T12:10:46.590400Z",
     "shell.execute_reply": "2023-11-27T12:10:46.589411Z",
     "shell.execute_reply.started": "2023-11-27T12:10:41.123566Z"
    }
   },
   "outputs": [],
   "source": [
    "import pandas as pd\n",
    "from sklearn.model_selection import train_test_split\n",
    "from transformers import BertTokenizer, BertForSequenceClassification\n",
    "from transformers import AdamW\n",
    "from torch.utils.data import DataLoader, TensorDataset, random_split\n",
    "import torch"
   ]
  },
  {
   "cell_type": "code",
   "execution_count": null,
   "metadata": {
    "execution": {
     "iopub.execute_input": "2023-11-27T12:10:46.980525Z",
     "iopub.status.busy": "2023-11-27T12:10:46.979529Z",
     "iopub.status.idle": "2023-11-27T12:10:48.858740Z",
     "shell.execute_reply": "2023-11-27T12:10:48.857927Z",
     "shell.execute_reply.started": "2023-11-27T12:10:46.980488Z"
    }
   },
   "outputs": [],
   "source": [
    "df = pd.read_csv('/kaggle/input/quora-question-pairs/train.csv.zip')\n"
   ]
  },
  {
   "cell_type": "code",
   "execution_count": null,
   "metadata": {
    "execution": {
     "iopub.execute_input": "2023-11-27T12:11:06.901699Z",
     "iopub.status.busy": "2023-11-27T12:11:06.900756Z",
     "iopub.status.idle": "2023-11-27T12:11:07.033460Z",
     "shell.execute_reply": "2023-11-27T12:11:07.032603Z",
     "shell.execute_reply.started": "2023-11-27T12:11:06.901664Z"
    }
   },
   "outputs": [],
   "source": [
    "df.dropna(inplace=True)\n",
    "df.reset_index(drop=True, inplace=True)"
   ]
  },
  {
   "cell_type": "code",
   "execution_count": null,
   "metadata": {
    "execution": {
     "iopub.execute_input": "2023-11-27T12:11:09.347453Z",
     "iopub.status.busy": "2023-11-27T12:11:09.347034Z",
     "iopub.status.idle": "2023-11-27T12:11:09.380516Z",
     "shell.execute_reply": "2023-11-27T12:11:09.379507Z",
     "shell.execute_reply.started": "2023-11-27T12:11:09.347421Z"
    }
   },
   "outputs": [],
   "source": [
    "df"
   ]
  },
  {
   "cell_type": "code",
   "execution_count": null,
   "metadata": {
    "execution": {
     "iopub.execute_input": "2023-11-27T13:04:42.333448Z",
     "iopub.status.busy": "2023-11-27T13:04:42.333068Z",
     "iopub.status.idle": "2023-11-27T13:04:42.439616Z",
     "shell.execute_reply": "2023-11-27T13:04:42.438584Z",
     "shell.execute_reply.started": "2023-11-27T13:04:42.333416Z"
    }
   },
   "outputs": [],
   "source": [
    "df.isna().sum()"
   ]
  },
  {
   "cell_type": "code",
   "execution_count": null,
   "metadata": {
    "execution": {
     "iopub.execute_input": "2023-11-27T12:11:17.692385Z",
     "iopub.status.busy": "2023-11-27T12:11:17.691891Z",
     "iopub.status.idle": "2023-11-27T12:11:18.859215Z",
     "shell.execute_reply": "2023-11-27T12:11:18.858300Z",
     "shell.execute_reply.started": "2023-11-27T12:11:17.692344Z"
    }
   },
   "outputs": [],
   "source": [
    "tokenizer = BertTokenizer.from_pretrained('bert-base-uncased')\n"
   ]
  },
  {
   "cell_type": "code",
   "execution_count": null,
   "metadata": {
    "execution": {
     "iopub.execute_input": "2023-11-27T13:08:21.516457Z",
     "iopub.status.busy": "2023-11-27T13:08:21.516047Z"
    }
   },
   "outputs": [],
   "source": [
    "tokenized = tokenizer(list(df['question1']), list(df['question2']), padding=True, truncation=True, return_tensors='pt', max_length=50)\n",
    "import warnings\n",
    "\n",
    "# Suppress all warnings\n",
    "warnings.filterwarnings(\"ignore\")\n",
    "\n",
    "# Your code here\n",
    "\n",
    "tokenized = tokenizer(list(df['question1']), list(df['question2']), padding=True, truncation=True, return_tensors='pt', max_length=50)\n",
    "warnings.resetwarnings()\n"
   ]
  },
  {
   "cell_type": "code",
   "execution_count": null,
   "metadata": {
    "execution": {
     "iopub.execute_input": "2023-11-27T12:54:24.350024Z",
     "iopub.status.busy": "2023-11-27T12:54:24.349125Z",
     "iopub.status.idle": "2023-11-27T12:54:24.414616Z",
     "shell.execute_reply": "2023-11-27T12:54:24.413604Z",
     "shell.execute_reply.started": "2023-11-27T12:54:24.349990Z"
    }
   },
   "outputs": [],
   "source": [
    "input_ids = tokenized['input_ids']\n",
    "attention_mask = tokenized['attention_mask']\n",
    "labels = torch.tensor(df['is_duplicate'].values)"
   ]
  },
  {
   "cell_type": "code",
   "execution_count": null,
   "metadata": {
    "execution": {
     "iopub.execute_input": "2023-11-27T12:57:05.423309Z",
     "iopub.status.busy": "2023-11-27T12:57:05.422577Z",
     "iopub.status.idle": "2023-11-27T12:57:05.427831Z",
     "shell.execute_reply": "2023-11-27T12:57:05.426791Z",
     "shell.execute_reply.started": "2023-11-27T12:57:05.423252Z"
    }
   },
   "outputs": [],
   "source": [
    "dataset = TensorDataset(input_ids, attention_mask, labels)\n"
   ]
  },
  {
   "cell_type": "code",
   "execution_count": null,
   "metadata": {
    "execution": {
     "iopub.execute_input": "2023-11-27T12:57:14.349037Z",
     "iopub.status.busy": "2023-11-27T12:57:14.348355Z",
     "iopub.status.idle": "2023-11-27T12:57:14.353471Z",
     "shell.execute_reply": "2023-11-27T12:57:14.352522Z",
     "shell.execute_reply.started": "2023-11-27T12:57:14.349005Z"
    }
   },
   "outputs": [],
   "source": [
    "train_size = int(0.8 * len(dataset))\n",
    "val_size = len(dataset) - train_size"
   ]
  },
  {
   "cell_type": "code",
   "execution_count": null,
   "metadata": {
    "execution": {
     "iopub.execute_input": "2023-11-27T12:57:25.547671Z",
     "iopub.status.busy": "2023-11-27T12:57:25.547082Z",
     "iopub.status.idle": "2023-11-27T12:57:25.624859Z",
     "shell.execute_reply": "2023-11-27T12:57:25.623929Z",
     "shell.execute_reply.started": "2023-11-27T12:57:25.547640Z"
    }
   },
   "outputs": [],
   "source": [
    "train_dataset, val_dataset = random_split(dataset, [train_size, val_size])\n"
   ]
  },
  {
   "cell_type": "code",
   "execution_count": null,
   "metadata": {
    "execution": {
     "iopub.execute_input": "2023-11-27T12:57:34.091929Z",
     "iopub.status.busy": "2023-11-27T12:57:34.091035Z",
     "iopub.status.idle": "2023-11-27T12:57:34.100227Z",
     "shell.execute_reply": "2023-11-27T12:57:34.099289Z",
     "shell.execute_reply.started": "2023-11-27T12:57:34.091882Z"
    }
   },
   "outputs": [],
   "source": [
    "train_loader = DataLoader(train_dataset, batch_size=64, shuffle=True)\n",
    "val_loader = DataLoader(val_dataset, batch_size=64, shuffle=False)"
   ]
  },
  {
   "cell_type": "code",
   "execution_count": null,
   "metadata": {
    "execution": {
     "iopub.execute_input": "2023-11-27T12:58:09.404583Z",
     "iopub.status.busy": "2023-11-27T12:58:09.403830Z",
     "iopub.status.idle": "2023-11-27T12:58:12.735190Z",
     "shell.execute_reply": "2023-11-27T12:58:12.734252Z",
     "shell.execute_reply.started": "2023-11-27T12:58:09.404547Z"
    }
   },
   "outputs": [],
   "source": [
    "model = BertForSequenceClassification.from_pretrained('bert-base-uncased', num_labels=1)\n"
   ]
  },
  {
   "cell_type": "code",
   "execution_count": null,
   "metadata": {
    "execution": {
     "iopub.execute_input": "2023-11-27T12:59:07.986490Z",
     "iopub.status.busy": "2023-11-27T12:59:07.986023Z",
     "iopub.status.idle": "2023-11-27T12:59:07.997324Z",
     "shell.execute_reply": "2023-11-27T12:59:07.996422Z",
     "shell.execute_reply.started": "2023-11-27T12:59:07.986459Z"
    }
   },
   "outputs": [],
   "source": [
    "num_epochs = 3\n",
    "device = torch.device(\"cuda\" if torch.cuda.is_available() else \"cpu\")"
   ]
  },
  {
   "cell_type": "code",
   "execution_count": null,
   "metadata": {
    "execution": {
     "iopub.execute_input": "2023-11-27T13:00:33.348922Z",
     "iopub.status.busy": "2023-11-27T13:00:33.348117Z",
     "iopub.status.idle": "2023-11-27T13:00:33.353813Z",
     "shell.execute_reply": "2023-11-27T13:00:33.352820Z",
     "shell.execute_reply.started": "2023-11-27T13:00:33.348889Z"
    }
   },
   "outputs": [],
   "source": [
    "\n",
    "import pandas as pd\n",
    "from sklearn.model_selection import train_test_split\n",
    "from transformers import BertTokenizer, BertForSequenceClassification\n",
    "from transformers import AdamW\n",
    "from torch.utils.data import DataLoader, TensorDataset, random_split\n",
    "import torch"
   ]
  },
  {
   "cell_type": "code",
   "execution_count": null,
   "metadata": {
    "execution": {
     "iopub.execute_input": "2023-11-27T13:02:09.812129Z",
     "iopub.status.busy": "2023-11-27T13:02:09.811744Z",
     "iopub.status.idle": "2023-11-27T13:02:09.828420Z",
     "shell.execute_reply": "2023-11-27T13:02:09.827145Z",
     "shell.execute_reply.started": "2023-11-27T13:02:09.812099Z"
    }
   },
   "outputs": [],
   "source": [
    "optimizer = AdamW(model.parameters(), lr=5e-5)\n"
   ]
  },
  {
   "cell_type": "code",
   "execution_count": null,
   "metadata": {},
   "outputs": [],
   "source": [
    "model.to(device)\n",
    "\n",
    "for epoch in range(num_epochs):\n",
    "    model.train()\n",
    "    for batch in train_loader:\n",
    "        batch = tuple(t.to(device) for t in batch)\n",
    "        inputs = {'input_ids': batch[0], 'attention_mask': batch[1], 'labels': batch[2]}\n",
    "        optimizer.zero_grad()\n",
    "        outputs = model(**inputs)\n",
    "        loss = outputs.loss\n",
    "        loss.backward()\n",
    "        optimizer.step()\n",
    "\n",
    "    model.eval()\n",
    "    val_loss = 0.0\n",
    "    with torch.no_grad():\n",
    "        for batch in val_loader:\n",
    "            batch = tuple(t.to(device) for t in batch)\n",
    "            inputs = {'input_ids': batch[0], 'attention_mask': batch[1], 'labels': batch[2]}\n",
    "            outputs = model(**inputs)\n",
    "            val_loss += outputs.loss.item()\n",
    "\n",
    "    avg_val_loss = val_loss / len(val_loader)\n",
    "    print(f'Epoch {epoch + 1}/{num_epochs}, Validation Loss: {avg_val_loss}')\n"
   ]
  },
  {
   "cell_type": "code",
   "execution_count": null,
   "metadata": {
    "execution": {
     "iopub.execute_input": "2023-11-27T13:02:59.400694Z",
     "iopub.status.busy": "2023-11-27T13:02:59.400256Z",
     "iopub.status.idle": "2023-11-27T13:02:59.406485Z",
     "shell.execute_reply": "2023-11-27T13:02:59.405322Z",
     "shell.execute_reply.started": "2023-11-27T13:02:59.400660Z"
    }
   },
   "outputs": [],
   "source": [
    "import torch\n",
    "\n",
    "print(torch.cuda.is_available())\n"
   ]
  },
  {
   "cell_type": "code",
   "execution_count": null,
   "metadata": {
    "execution": {
     "iopub.execute_input": "2023-11-27T13:03:04.335413Z",
     "iopub.status.busy": "2023-11-27T13:03:04.335014Z",
     "iopub.status.idle": "2023-11-27T13:03:04.340507Z",
     "shell.execute_reply": "2023-11-27T13:03:04.339488Z",
     "shell.execute_reply.started": "2023-11-27T13:03:04.335381Z"
    }
   },
   "outputs": [],
   "source": [
    "print(torch.version.cuda)\n"
   ]
  },
  {
   "cell_type": "code",
   "execution_count": null,
   "metadata": {
    "execution": {
     "iopub.execute_input": "2023-11-27T13:03:14.216082Z",
     "iopub.status.busy": "2023-11-27T13:03:14.215221Z",
     "iopub.status.idle": "2023-11-27T13:03:14.570241Z",
     "shell.execute_reply": "2023-11-27T13:03:14.569322Z",
     "shell.execute_reply.started": "2023-11-27T13:03:14.216050Z"
    }
   },
   "outputs": [],
   "source": [
    "device = torch.device('cpu')\n",
    "model.to(device)\n"
   ]
  },
  {
   "cell_type": "code",
   "execution_count": null,
   "metadata": {
    "execution": {
     "iopub.execute_input": "2023-11-28T12:35:29.880782Z",
     "iopub.status.busy": "2023-11-28T12:35:29.880517Z",
     "iopub.status.idle": "2023-11-28T12:35:29.885162Z",
     "shell.execute_reply": "2023-11-28T12:35:29.884058Z",
     "shell.execute_reply.started": "2023-11-28T12:35:29.880760Z"
    }
   },
   "outputs": [],
   "source": [
    "a=1"
   ]
  },
  {
   "cell_type": "code",
   "execution_count": null,
   "metadata": {
    "execution": {
     "iopub.execute_input": "2023-11-28T12:37:55.317170Z",
     "iopub.status.busy": "2023-11-28T12:37:55.316679Z",
     "iopub.status.idle": "2023-11-28T12:46:25.276464Z",
     "shell.execute_reply": "2023-11-28T12:46:25.275042Z",
     "shell.execute_reply.started": "2023-11-28T12:37:55.317134Z"
    }
   },
   "outputs": [],
   "source": [
    "import pandas as pd\n",
    "import torch\n",
    "from torch.utils.data import Dataset, DataLoader\n",
    "from transformers import BertForSequenceClassification, BertTokenizer, AdamW\n",
    "from sklearn.model_selection import train_test_split\n",
    "from tqdm import tqdm\n",
    "\n",
    "# Load your dataset\n",
    "df = pd.read_csv('/kaggle/input/quora-question-pairs/train.csv.zip')\n",
    "df.dropna(inplace=True)\n",
    "df.reset_index(drop=True, inplace=True)\n",
    "\n",
    "# Load BERT model and tokenizer\n",
    "model_name = 'bert-base-uncased'\n",
    "bert_model = BertForSequenceClassification.from_pretrained(model_name, num_labels=2)  # Assuming a binary classification task\n",
    "tokenizer = BertTokenizer.from_pretrained(model_name)\n",
    "\n",
    "# Tokenize and preprocess the data\n",
    "max_len = 128  # Set your desired maximum sequence length\n",
    "\n",
    "def tokenize_and_preprocess(row):\n",
    "    question1 = str(row['question1'])\n",
    "    question2 = str(row['question2'])\n",
    "    inputs = tokenizer(question1, question2, padding='max_length', truncation=True, max_length=max_len, return_tensors='pt')\n",
    "    return {\n",
    "        'input_ids': inputs['input_ids'].flatten(),\n",
    "        'attention_mask': inputs['attention_mask'].flatten(),\n",
    "        'labels': torch.tensor(row['is_duplicate'], dtype=torch.long)\n",
    "    }\n",
    "\n",
    "# Apply tokenization and preprocessing to the DataFrame\n",
    "df['input_data'] = df.apply(tokenize_and_preprocess, axis=1)\n",
    "\n",
    "# Split the dataset into training and validation sets\n",
    "train_df, val_df = train_test_split(df, test_size=0.2, random_state=42)\n",
    "\n",
    "# Custom dataset class for PyTorch DataLoader\n",
    "class QuestionDataset(Dataset):\n",
    "    def __init__(self, dataframe):\n",
    "        self.data = dataframe['input_data'].tolist()\n",
    "\n",
    "    def __len__(self):\n",
    "        return len(self.data)\n",
    "\n",
    "    def __getitem__(self, idx):\n",
    "        return self.data[idx]\n",
    "\n",
    "# Create DataLoader for training and validation sets\n",
    "train_dataset = QuestionDataset(train_df)\n",
    "val_dataset = QuestionDataset(val_df)\n",
    "\n",
    "train_loader = DataLoader(train_dataset, batch_size=16, shuffle=True)\n",
    "val_loader = DataLoader(val_dataset, batch_size=16, shuffle=False)\n",
    "\n",
    "# Set up optimizer and scheduler\n",
    "optimizer = AdamW(bert_model.parameters(), lr=2e-5)\n",
    "scheduler = torch.optim.lr_scheduler.StepLR(optimizer, step_size=1, gamma=0.9)\n",
    "\n",
    "# Training loop\n",
    "device = torch.device('cuda' if torch.cuda.is_available() else 'cpu')\n",
    "bert_model.to(device)\n",
    "\n",
    "num_epochs = 3  # Set your desired number of training epochs\n",
    "best_val_loss = float('inf')\n",
    "\n",
    "for epoch in range(num_epochs):\n",
    "    bert_model.train()\n",
    "    total_loss = 0\n",
    "\n",
    "    for batch in tqdm(train_loader, desc=f'Epoch {epoch + 1}/{num_epochs}'):\n",
    "        inputs = {key: value.to(device) for key, value in batch.items()}\n",
    "        optimizer.zero_grad()\n",
    "        outputs = bert_model(**inputs)\n",
    "        loss = outputs.loss\n",
    "        loss.backward()\n",
    "        optimizer.step()\n",
    "        total_loss += loss.item()\n",
    "\n",
    "    avg_train_loss = total_loss / len(train_loader)\n",
    "    print(f'Average training loss: {avg_train_loss}')\n",
    "\n",
    "    # Validation\n",
    "    bert_model.eval()\n",
    "    total_val_loss = 0\n",
    "\n",
    "    with torch.no_grad():\n",
    "        for batch in tqdm(val_loader, desc='Validation'):\n",
    "            inputs = {key: value.to(device) for key, value in batch.items()}\n",
    "            outputs = bert_model(**inputs)\n",
    "            loss = outputs.loss\n",
    "            total_val_loss += loss.item()\n",
    "\n",
    "    avg_val_loss = total_val_loss / len(val_loader)\n",
    "    print(f'Average validation loss: {avg_val_loss}')\n",
    "\n",
    "    # Save the best model\n",
    "    if avg_val_loss < best_val_loss:\n",
    "        best_val_loss = avg_val_loss\n",
    "        torch.save(bert_model.state_dict(), 'best_model.pth')\n",
    "\n",
    "    # Update learning rate\n",
    "    scheduler.step()\n",
    "\n",
    "# After training, you can load the best model using:\n",
    "# bert_model.load_state_dict(torch.load('best_model.pth'))\n"
   ]
  },
  {
   "cell_type": "code",
   "execution_count": null,
   "metadata": {},
   "outputs": [],
   "source": []
  }
 ],
 "metadata": {
  "kaggle": {
   "accelerator": "gpu",
   "dataSources": [
    {
     "databundleVersionId": 323734,
     "sourceId": 6277,
     "sourceType": "competition"
    }
   ],
   "dockerImageVersionId": 30588,
   "isGpuEnabled": true,
   "isInternetEnabled": true,
   "language": "python",
   "sourceType": "notebook"
  },
  "kernelspec": {
   "display_name": "Python 3",
   "language": "python",
   "name": "python3"
  },
  "language_info": {
   "codemirror_mode": {
    "name": "ipython",
    "version": 3
   },
   "file_extension": ".py",
   "mimetype": "text/x-python",
   "name": "python",
   "nbconvert_exporter": "python",
   "pygments_lexer": "ipython3",
   "version": "3.10.12"
  }
 },
 "nbformat": 4,
 "nbformat_minor": 4
}
